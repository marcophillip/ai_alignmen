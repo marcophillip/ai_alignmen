{
  "cells": [
    {
      "cell_type": "markdown",
      "metadata": {
        "id": "0bLRx-fX84wH"
      },
      "source": [
        "# **🐍 Improving Reinforcement Learning using Actor Critic Methods 🤖**\n",
        "\n",
        "![snake.png](data:image/png;base64,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)\n",
        "\n",
        "<a href=\"https://colab.research.google.com/github/deep-learning-indaba/indaba-pracs-2025/blob/main/practicals/Reinforcement_Learning/Part_2/RL_practical_2025_Session_2.ipynb\" target=\"_parent\"><img src=\"https://colab.research.google.com/assets/colab-badge.svg\" alt=\"Open In Colab\"/></a>\n",
        "\n",
        "© Deep Learning Indaba 2025. Apache License 2.0.\n",
        "\n",
        "**Authors:** Siddarth Singh, Sasha Abramowitz, Ruan de Kock, Matthew Morris, Miruna Pîslar\n",
        "\n",
        "**Introduction:**\n",
        "\n",
        "Welcome to the second session of the RL practical! We are going to be improving on our previously written Reinforcement Learning algorithm (**REINFORCE**) to better solve the game of Snake.\n",
        "\n",
        "Our approach will rely on learning a function to estimate the return, referred to as a **baseline**. This will reduce the variance of our policy, improving model performance.\n",
        "Our end goal is to implement the Advantage Actor-Critic (A2C) reinforcement learning algorithm.\n",
        "\n",
        "**Learning Objectives:**\n",
        "\n",
        "By the end of this practical, you will be able to:\n",
        "\n",
        "*   ✅ **Understand** bias and variance, and the issues REINFORCE has with high variance.\n",
        "*   🎲 **Discover** how a baseline can be used to reduce the variance of REINFORCE.\n",
        "*   📈 **Build** an intuitive understanding of how baselines can be learned, and computed using *advantage estimation*.\n",
        "*   🚀 **Implement** a commonly used RL algorithm, A2C, which is an improvement upon REINFORCE using a learned baseline.\n",
        "\n",
        "**Prerequisites:**\n",
        "\n",
        "To get the most out of this tutorial, you should have some familiarity with:\n",
        "\n",
        "* [Python](https://www.python.org/) and common libraries like [numpy](https://numpy.org/)\n",
        "* [JAX](https://github.com/google/jax) for fast, numerical computing and automatic differentiation\n",
        "* Basic Machine Learning concepts, such as model parameters (weights), gradients, and the softmax function\n",
        "* [Session 1 of the RL practical](https://colab.research.google.com/github/deep-learning-indaba/indaba-pracs-2025/blob/main/practicals/Reinforcement_Learning/Part_1/Solving_the_Snake_game_using_RL.ipynb)\n",
        "\n"
      ]
    },
    {
      "cell_type": "code",
      "execution_count": null,
      "metadata": {
        "cellView": "form",
        "id": "6TD0V-qVZTpI"
      },
      "outputs": [],
      "source": [
        "# @title Install and import required packages (Run me)\n",
        "\n",
        "%%capture\n",
        "!pip install jumanji\n",
        "\n",
        "from typing import NamedTuple\n",
        "\n",
        "import jumanji\n",
        "from jumanji.wrappers import JumanjiToGymWrapper\n",
        "from jumanji.environments.routing.snake.types import Actions, State, Observation\n",
        "import gymnasium as gym\n",
        "\n",
        "import jax\n",
        "import jax.numpy as jnp\n",
        "from jax import grad, jit, vmap\n",
        "\n",
        "import flax.linen as nn\n",
        "import optax\n",
        "\n",
        "import matplotlib.pyplot as plt\n",
        "import numpy as np\n",
        "import imageio\n",
        "from IPython.display import display, Image\n",
        "import io\n",
        "\n",
        "from tqdm import notebook\n"
      ]
    },
    {
      "cell_type": "markdown",
      "metadata": {
        "id": "r9SB5xJuZH03"
      },
      "source": [
        "### Helper and Utility Functions\n",
        "We will also use all the helper functions we defined in the previous practical, without going over them again."
      ]
    },
    {
      "cell_type": "code",
      "execution_count": null,
      "metadata": {
        "cellView": "form",
        "id": "VN_MqbzvZb2Y"
      },
      "outputs": [],
      "source": [
        "# @title Utilities (Run me)\n",
        "\n",
        "# Environment wrapper\n",
        "class SnakeWrapper(JumanjiToGymWrapper):\n",
        "  def __init__(self, env):\n",
        "    super().__init__(env)\n",
        "    # Flatten the grid observation for simplicity\n",
        "    self.observation_space[\"grid\"] = gym.spaces.flatten_space(self.observation_space[\"grid\"])\n",
        "\n",
        "  def reset(self):\n",
        "    obs, info = super().reset()\n",
        "    obs[\"grid\"] = obs[\"grid\"].reshape(-1)  # Flatten the grid observation for simplicity\n",
        "    return obs, info\n",
        "\n",
        "  def step(self, action):\n",
        "    obs, reward, term, trunc, info = super().step(action)\n",
        "    obs[\"grid\"] = obs[\"grid\"].reshape(-1)  # Flatten the grid observation for simplicity\n",
        "\n",
        "    # This is a simplicifaction for this tutorial, we use the old Gym API for ease\n",
        "    # of explaination. For a good discussion around the difference between\n",
        "    # termination and truncation see:\n",
        "    # https://farama.org/Gymnasium-Terminated-Truncated-Step-API\n",
        "    done = term or trunc\n",
        "    return obs, reward, done, info\n",
        "\n",
        "# Environment setup\n",
        "GRID_SIZE = 4  # how big our grid will be\n",
        "key = jax.random.PRNGKey(42)  # random seed\n",
        "\n",
        "env = jumanji.make(\"Snake-v1\", num_rows=GRID_SIZE, num_cols=GRID_SIZE)\n",
        "env = SnakeWrapper(env)  # A friendly environment API\n",
        "\n",
        "# Environment variables\n",
        "num_actions = int(env.action_space.n)\n",
        "observation_shape = env.observation_space['grid'].shape\n",
        "\n",
        "# Action masking\n",
        "def mask_illegal_actions(logits, action_mask, negative_action_value=-9999999):\n",
        "  masked_logits = jnp.where(action_mask, logits, negative_action_value)\n",
        "  return masked_logits\n",
        "\n",
        "# Logits to probabilities\n",
        "def get_action_probabilities(logits):\n",
        "  return jnp.exp(logits) / jnp.sum(jnp.exp(logits))\n",
        "\n",
        "# Action sampling\n",
        "def sample_action(logits, key):\n",
        "  action_probabilities = get_action_probabilities(logits)\n",
        "  action = jax.random.choice(\n",
        "      key, jnp.array([0, 1, 2, 3]), p=action_probabilities\n",
        "    )\n",
        "  return action\n",
        "\n",
        "def select_action(logits, key):\n",
        "    \"\"\"Sample an action from the policy distribution.\"\"\"\n",
        "    # jax.random.categorical works directly on logits\n",
        "    return jax.random.categorical(key, logits)\n",
        "\n",
        "# Policy network\n",
        "class PolicyNetwork(nn.Module):\n",
        "  def setup(self):\n",
        "    self.layer_1 = nn.Dense(16)\n",
        "    self.layer_2 = nn.Dense(16)\n",
        "    self.output_layer = nn.Dense(4)\n",
        "\n",
        "  def __call__(self, observation):\n",
        "    hidden = self.layer_1(observation)\n",
        "    hidden = jax.nn.relu(hidden)\n",
        "    hidden = self.layer_2(observation)\n",
        "    hidden = jax.nn.relu(hidden)\n",
        "    logits = self.output_layer(hidden)\n",
        "\n",
        "    return logits\n",
        "\n",
        "# Discounted return\n",
        "def compute_discounted_return(rewards, discount_factor=0.99):\n",
        "    returns = []\n",
        "    cumulative_return = 0.0\n",
        "\n",
        "    # Work backwards through the rewards\n",
        "    for r in reversed(rewards):\n",
        "        cumulative_return = r + discount_factor * cumulative_return\n",
        "        returns.append(cumulative_return)\n",
        "\n",
        "    # Reverse to get forward chronological order\n",
        "    returns.reverse()\n",
        "    return jnp.array(returns)\n",
        "\n",
        "# Batched policy application\n",
        "policy_network = PolicyNetwork()\n",
        "batched_policy_apply = jax.vmap(policy_network.apply, in_axes=(None, 0))\n",
        "\n",
        "# Log probabilities\n",
        "def get_action_log_prob(logits, action):\n",
        "  action_probabilities = get_action_probabilities(logits)\n",
        "  action_log_prob = jnp.log(action_probabilities[action])\n",
        "  return action_log_prob\n",
        "\n",
        "# Batched action probabilities\n",
        "batched_get_action_log_prob = jax.vmap(get_action_log_prob, in_axes=(0, 0))\n",
        "\n",
        "# Batched objective function\n",
        "def batched_reinforce_loss_function(policy_params, observations, actions, discounted_returns):\n",
        "  batch_logits = batched_policy_apply(policy_params, observations)\n",
        "  batch_action_log_probabilities = batched_get_action_log_prob(batch_logits, actions)\n",
        "  reinforce_objective_value = reinforce_objective(batch_action_log_probabilities, discounted_returns)\n",
        "\n",
        "  return reinforce_objective_value"
      ]
    },
    {
      "cell_type": "markdown",
      "metadata": {
        "id": "8tQPMkOt9S85"
      },
      "source": [
        "## 0. Recap of REINFORCE\n",
        "\n",
        "To recap what we covered in the previous practical:\n",
        "1. ⚙️ We did a brief overview of reinforcement learning as a whole.\n",
        "2. 🔧 We saw rule-based policies in action.\n",
        "3. 🔋 We showed how policies could be parameterised.\n",
        "4. 🤖 We used Neural Networks as policies.\n",
        "5. 📈 We derived the gradient of a policy, which we can use to update the parameters.\n",
        "6. 🖥️ We implemented the **REINFORCE** algorithm.\n",
        "\n",
        "REINFORCE is the canonical example of a *policy gradient method*, and most other methods are built on top of it.\n",
        "The goal of policy gradient methods is to learn a policy $\\pi$ that (1) takes in observations from the environment and then (2) returns the action that maximises the reward the agent obtains.\n",
        "\n",
        "Recall that our REINFORCE gradient is defined as follows, which we use to \"climb the mountain\" and update our policy parameters to increase the reward:\n",
        "\n",
        "$$\\nabla_\\theta J(\\theta)\n",
        "\\propto \\mathbb{E}_{\\pi_\\theta} \\left[ Q^\\pi(s, a) \\, \\nabla_\\theta \\log \\pi_\\theta(a \\mid s) \\right] = \\mathbb{E}_{\\pi_\\theta} \\left[ G_t \\, \\nabla_\\theta \\log \\pi_\\theta(A_t \\mid S_t) \\right],$$\n",
        "\n",
        "where $A_t$ is the agent action at time step $t$, $S_t$ is the state at $t$, and $G_t$ is the return from $t$ onwards.\n",
        "\n",
        "$A_t, S_t, G_t$ are sampled by repeatedly rolling out the agent in the environment.\n",
        "In our code, we thus define the following objective function, where $G_t$ = `discounted_returns` and $\\log \\pi_\\theta(A_t \\mid S_t)$ = `action_log_probs`."
      ]
    },
    {
      "cell_type": "code",
      "execution_count": null,
      "metadata": {
        "id": "igi13rCIfmqZ"
      },
      "outputs": [],
      "source": [
        "# Reinforce objective function\n",
        "def reinforce_objective(action_log_probs, discounted_returns):\n",
        "  objective = -(discounted_returns * action_log_probs)\n",
        "  return jnp.mean(objective)"
      ]
    },
    {
      "cell_type": "markdown",
      "metadata": {
        "id": "dpLivKusY74n"
      },
      "source": [
        "### Training Loop"
      ]
    },
    {
      "cell_type": "markdown",
      "metadata": {
        "id": "teHUOR2ukw8v"
      },
      "source": [
        "![Screenshot 2024-07-10 at 10.09.29.png](data:image/png;base64,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)"
      ]
    },
    {
      "cell_type": "markdown",
      "metadata": {
        "id": "2IRlz007k2j3"
      },
      "source": [
        "This is the training loop as it stands: we will be improving on this during the practical.\n",
        "\n",
        "The process is:\n",
        "1. Randomly initialise the network parameters\n",
        "2. Start the agent-environment loop. Repeat a specified number of times.\n",
        "    1. Gather experience for an entire episode.\n",
        "    2. Compute discounted return from the rewards.\n",
        "    3. Use the return to update the policy.\n",
        "    4. Repeat."
      ]
    },
    {
      "cell_type": "code",
      "execution_count": null,
      "metadata": {
        "colab": {
          "base_uri": "https://localhost:8080/"
        },
        "id": "sMWGT8VMbUnU",
        "outputId": "fd62a144-0c54-4b2c-de14-e02123d839ab"
      },
      "outputs": [],
      "source": [
        "total_num_episodes = 21 # Make this larger if you want the model to train for longer\n",
        "\n",
        "# 1. Initialise the network and parameters\n",
        "policy_network = PolicyNetwork()\n",
        "dummy_obs = jnp.ones(observation_shape)\n",
        "key, network_init_key = jax.random.split(key)\n",
        "policy_params = policy_network.init(network_init_key, dummy_obs)\n",
        "\n",
        "# Jit everything\n",
        "jit_policy_network_apply = jax.jit(policy_network.apply)\n",
        "jit_mask_illegal_actions = jax.jit(mask_illegal_actions)\n",
        "jit_sample_action = jax.jit(sample_action)\n",
        "\n",
        "# Create the optimiser\n",
        "optim = optax.adam(learning_rate=5e-4)\n",
        "\n",
        "# Initialise the optimiser state\n",
        "opt_state = optim.init(policy_params)\n",
        "\n",
        "# 2. Agent-environment loop\n",
        "# Here is our termination critieria. Train for only a fixed number of episodes.\n",
        "for episode in range(total_num_episodes):\n",
        "  # Create a way to store the agent's experience it gathers while interacting\n",
        "  # in the environment.\n",
        "  rewards = []\n",
        "  observations = []\n",
        "  actions = []\n",
        "\n",
        "  # Reset the environment and set the return to zero so we can measure our\n",
        "  # agent's performance.\n",
        "  episode_return = 0\n",
        "  obs, info = env.reset()\n",
        "  done = False\n",
        "\n",
        "  # 2.1 Gather experience for an entire episode.\n",
        "  while not done:\n",
        "    grid_obs = obs['grid']\n",
        "    logits = jit_policy_network_apply(policy_params, grid_obs)\n",
        "\n",
        "    action_mask = obs['action_mask']\n",
        "    logits = jit_mask_illegal_actions(logits, action_mask, jnp.finfo(jnp.float32).min)\n",
        "\n",
        "    key, action_key = jax.random.split(key)\n",
        "    action = jit_sample_action(logits, action_key)\n",
        "\n",
        "    # store the observation and action taken for training\n",
        "    observations.append(grid_obs)\n",
        "    actions.append(action)\n",
        "\n",
        "    # step the evironment\n",
        "    obs, reward, done, info = env.step(action)\n",
        "\n",
        "    # store the reward for training\n",
        "    rewards.append(reward)\n",
        "\n",
        "    episode_return += reward # increment the return\n",
        "\n",
        "  # Only print the reward every 10 episodes\n",
        "  if episode % 10 == 0:\n",
        "    print(f\"Episode {episode}: Return: {episode_return}\")\n",
        "\n",
        "  # 2.2 After gathering an episode's experience, compute discounted return from the rewards\n",
        "  discounted_returns = compute_discounted_return(rewards)\n",
        "\n",
        "  # Convert data to jax.numpy arrays.\n",
        "  observations = jnp.array(observations)\n",
        "  actions = jnp.array(actions)\n",
        "\n",
        "  # 2.3 update the policy\n",
        "  gradients = jax.grad(batched_reinforce_loss_function)(policy_params, observations, actions, discounted_returns)\n",
        "  updates, new_opt_state = optim.update(gradients, opt_state)\n",
        "  params = optax.apply_updates(policy_params, updates)\n",
        "  opt_state = new_opt_state\n",
        "\n",
        "  # 2.4 Repeat!"
      ]
    },
    {
      "cell_type": "markdown",
      "metadata": {
        "id": "7E4_hXD19VXE"
      },
      "source": [
        "## 1. The Limitations of REINFORCE\n",
        "\n",
        "REINFORCE relies on computing an expectation of the gradient by sampling:\n",
        "\n",
        "$$\\nabla_\\theta J(\\theta)\n",
        "\\propto \\mathbb{E}_{\\pi_\\theta} \\left[ G_t \\, \\nabla_\\theta \\log \\pi_\\theta(A_t \\mid S_t) \\right].$$\n",
        "\n",
        "Thus, this method is only as good as the expectation is at approximating the true gradient.\n",
        "Let's start with a simple experiment.\n",
        "\n",
        "We will fix the parameters of our agent (instead of updating them during training) and just compute the size of the gradient over a number of episodes.\n",
        "I.e. in each episode, $\\theta$ is the same, so we should expect to see a similar estimate for $\\nabla_\\theta J(\\theta)$ in each episode, if our REINFORCE expectation is doing its job!\n",
        "\n",
        "Let's run a simulation and see what happens."
      ]
    },
    {
      "cell_type": "code",
      "execution_count": null,
      "metadata": {
        "cellView": "form",
        "colab": {
          "base_uri": "https://localhost:8080/",
          "height": 504,
          "referenced_widgets": [
            "6dd11d8755af42ec88d6675fa53ce124",
            "0572f1d282194f7ea01a66852870bada",
            "43599ef363b54251bc7d077216bef0ce",
            "a1993e31d18e4d6797cc63abab29d7b2",
            "cf848cb8c78141c79d85044576d7d99e",
            "5bc0d7c1a1634e3fb262a9656f979eb7",
            "c46741cd06d0427087ccbee842596984",
            "97f7564ce7004c828207b7c47cbf0fa0",
            "8352e7d98e9843f480dd47fe313f93cf",
            "b1f8aed627834b82a851362396179fb4",
            "22023f7b087b4e5f91136a6f217ac271"
          ]
        },
        "id": "oAoMUEdjvqsW",
        "outputId": "bbb4523c-9fe6-464c-cffc-a6565c03e037"
      },
      "outputs": [],
      "source": [
        "# @title Run Simulation\n",
        "\n",
        "num_episodes_in_simulation = 20\n",
        "\n",
        "# Store gradient norms over episodes\n",
        "gradient_norms = []\n",
        "\n",
        "for episode in notebook.tqdm(range(num_episodes_in_simulation)):\n",
        "    rewards = []\n",
        "    observations = []\n",
        "    actions = []\n",
        "\n",
        "    episode_return = 0\n",
        "    obs, info = env.reset()\n",
        "    done = False\n",
        "\n",
        "    while not done:\n",
        "        grid_obs = obs['grid']\n",
        "        logits = jit_policy_network_apply(policy_params, grid_obs)\n",
        "\n",
        "        action_mask = obs['action_mask']\n",
        "        logits = jit_mask_illegal_actions(logits, action_mask, jnp.finfo(jnp.float32).min)\n",
        "\n",
        "        key, action_key = jax.random.split(key)\n",
        "        action = jit_sample_action(logits, action_key)\n",
        "\n",
        "        observations.append(grid_obs)\n",
        "        actions.append(action)\n",
        "\n",
        "        obs, reward, done, info = env.step(action)\n",
        "        rewards.append(reward)\n",
        "        episode_return += reward\n",
        "\n",
        "    discounted_returns = compute_discounted_return(rewards)\n",
        "    observations = jnp.array(observations)\n",
        "    actions = jnp.array(actions)\n",
        "\n",
        "    # Compute gradients\n",
        "    gradients = jax.grad(batched_reinforce_loss_function)(policy_params, observations, actions, discounted_returns)\n",
        "\n",
        "    # Flatten all gradients into a single vector and compute norm\n",
        "    def flatten_and_concatenate(tree):\n",
        "        return jnp.concatenate([jnp.ravel(x) for x in jax.tree_util.tree_leaves(tree)])\n",
        "\n",
        "    grad_vector = flatten_and_concatenate(gradients)\n",
        "    grad_norm = jnp.linalg.norm(grad_vector) # Frobenius norm\n",
        "    gradient_norms.append(float(grad_norm))\n",
        "\n",
        "# Plot gradient norms over episodes\n",
        "plt.plot(range(num_episodes_in_simulation), gradient_norms)\n",
        "plt.xlabel(\"Episode\")\n",
        "plt.ylabel(\"Gradient Norm\")\n",
        "plt.title(\"Gradient Norm Over Episodes\")\n",
        "plt.grid(True)\n",
        "plt.show()"
      ]
    },
    {
      "cell_type": "markdown",
      "metadata": {
        "id": "wz4awbt_yqiS"
      },
      "source": [
        "Notice how much the graph jumps up and down: this is not a good sign.\n",
        "\n",
        "This means that our estimator of the gradient has **high variance**.\n",
        "If our estimate of the gradient is off, it will impede the training of the model or, even worse, make the model worse!\n",
        "\n",
        "How do we solve this? 🤔\n",
        "\n",
        "One naive solution may be to compute the gradient over a number episodes, using the same parameters $\\theta$, then **compute the average gradient** and use it to update the parameters.\n",
        "This would work, since the more you sample, the lower the overall variance will be and the closer the estimation will be to the true gradient.\n",
        "We saw this in the previous practical with the example of rolling dice - the more you roll the dice, the closer the average value will become to the true average of 3.5."
      ]
    },
    {
      "cell_type": "code",
      "execution_count": null,
      "metadata": {
        "cellView": "form",
        "colab": {
          "base_uri": "https://localhost:8080/",
          "height": 507
        },
        "id": "AbiQ5J4p0hE7",
        "outputId": "f2ac0a0f-5a29-4519-fa4b-fbeb7b97d842"
      },
      "outputs": [],
      "source": [
        "#@title Dice Rolling, Expectation as Samples Increases (run me)\n",
        "\n",
        "import numpy as np\n",
        "import matplotlib.pyplot as plt\n",
        "\n",
        "# --- Ground truth expected value of a fair 6-sided die\n",
        "true_value = np.mean([1, 2, 3, 4, 5, 6])\n",
        "\n",
        "# --- Monte Carlo sampling\n",
        "n_samples = 1000\n",
        "samples = np.random.randint(1, 7, size=n_samples)  # simulate die rolls\n",
        "estimates = np.cumsum(samples) / (np.arange(n_samples) + 1)  # running average\n",
        "\n",
        "# --- Plot convergence\n",
        "plt.figure(figsize=(8, 5))\n",
        "plt.plot(estimates, label='Monte Carlo Estimate')\n",
        "plt.axhline(true_value, color='red', linestyle='--', label='True Expected Value (3.5)')\n",
        "plt.xlabel('Number of Samples')\n",
        "plt.ylabel('Estimated Expected Value')\n",
        "plt.title('Estimation of Dice Roll Expectation')\n",
        "plt.legend()\n",
        "plt.grid(True)\n",
        "plt.tight_layout()\n",
        "plt.show()\n"
      ]
    },
    {
      "cell_type": "markdown",
      "metadata": {
        "id": "92t75wz009Bc"
      },
      "source": [
        "However, this is not a good solution by itself, since we would have to roll out our agent many times in the environment before each gradient update, slowing down our model.\n",
        "\n",
        "> In the next section, we will see a much neater way to reduce the variance in the REINFORCE estimator, using a **baseline**.\n",
        "\n",
        "Another issue with REINFORCE is that we have to complete an entire environment loop every time before updating the agent parameters: what if instead we had a way to estimate the return midway through an episode? 👀 This is referred to as a **partial rollout**.\n",
        "\n",
        "> We will also see how to do this later in the prac, using **critics** and **bootstrapping**."
      ]
    },
    {
      "cell_type": "markdown",
      "metadata": {
        "id": "4BGmVFHO9Zbx"
      },
      "source": [
        "## 2. Reducing the Variance"
      ]
    },
    {
      "cell_type": "markdown",
      "metadata": {
        "id": "GGawn7SxAy4v"
      },
      "source": [
        "The key idea to reduce this variance is to subtract a **baseline** $b(S_t)$ from the return $G_t$. The baseline can be any function that depends on the state $S_t$, but **not** on the action $A_t$."
      ]
    },
    {
      "cell_type": "markdown",
      "metadata": {
        "id": "YOJbqeUo9i8n"
      },
      "source": [
        "### Advantage Estimations with Monte Carlo Returns"
      ]
    },
    {
      "cell_type": "markdown",
      "metadata": {
        "id": "xpqGP5kszDer"
      },
      "source": [
        "\n",
        "As we've seen, we can make our gradient estimate more stable by using a **baseline**. A great choice for the baseline is the **state-value function**, $V^\\pi(s) = \\mathbb{E}_{\\pi_\\theta} [G_t \\mid S_t = s]$. This function tells us the expected return we'll get starting from state $s$ and following our policy $\\pi$.\n",
        "\n",
        "$$V^\\pi(s) = \\mathbb{E}_{\\pi_\\theta} [G_t \\mid S_t = s]$$\n",
        "\n",
        "This changes our update rule from:\n",
        "\n",
        "$$\\nabla_\\theta J(\\theta) \\propto \\mathbb{E}_{\\pi_\\theta} \\left[ \\color{red}{G_t} \\, \\nabla_\\theta \\log \\pi_\\theta(A_t \\mid S_t) \\right]$$\n",
        "\n",
        "to:\n",
        "\n",
        "$$\\nabla_\\theta J(\\theta) \\propto \\mathbb{E}_{\\pi_\\theta} \\left[ \\color{blue}{(G_t - V^\\pi(s))} \\, \\nabla_\\theta \\log \\pi_\\theta(A_t \\mid S_t) \\right]$$\n",
        "\n",
        "This quantity, $\\color{blue}{G_t - V^\\pi(S_t)}$, is so important that it has its own name: the **advantage**, $A^\\pi$<sup><a href=\"#footnote1\">1</a></sup>. In plain words, it is the difference between the realized return and the state's value estimate.\n",
        "\n",
        "> Intuitively, the advantage tells us if the agent acted better than expected:\n",
        "> - If $A_t > 0$, i.e., $G_t > V^\\pi(S_t)$: the agent action was better than expected → increase its likelihood.\n",
        "> - If $A_t < 0$, i.e., $G_t < V^\\pi(S_t)$: the agent action was worse than expected → decrease its likelihood.\n",
        "\n",
        "Our gradient update is now:\n",
        "$$\\nabla_\\theta J(\\theta)\n",
        "\\propto \\mathbb{E}_{\\pi_\\theta} \\left[ \\color{blue}{A^\\pi(S_t, A_t)} \\, \\nabla_\\theta \\log \\pi_\\theta(A_t \\mid S_t) \\right]$$\n",
        "\n",
        "\n",
        "The Advantage Function provides a solution by changing the question. Instead of asking, \"Was the outcome good?\", we ask, \"Was the outcome better than we expected it to be?\"\n",
        "\n",
        "This provides a much more stable and focused learning signal. It centers the rewards around zero, helping the agent distinguish between \"bad\" and \"less bad\" actions, or \"good\" and \"very good\" actions.\n",
        "\n",
        "---\n",
        "<p id=\"footnote1\"><sup>1</sup> <strong>Formal definition</strong>: Formally, the Advantage Function is defined as $A^\\pi(s, a) = Q^\\pi(s, a) - V^\\pi(s)$. The term $Q^\\pi(s, a)$ is the action-value function, representing the expected return for taking action $a$ in state $s$ and then following policy $\\pi$. In our Monte Carlo setting, the single observed return $G_t$ is used as an unbiased estimate of $Q^\\pi(S_t, A_t)$, which makes $G_t - V^\\pi(S_t)$ our practical estimate of the true advantage.</p>"
      ]
    },
    {
      "cell_type": "markdown",
      "metadata": {
        "id": "dJ2wG3F5SRCx"
      },
      "source": [
        "### Estimating the advantage\n",
        "\n",
        "In practice, we don't know the true value function $V^\\pi(s)$. But we can estimate it from an episode's worth of data using a **Monte Carlo** approach. To get our advantage estimate, we need to compare the return we *actually got* against a baseline of what we *expected*.\n",
        "\n",
        "1.  **Estimate the return for taking action $a_t$**: We use the actual discounted return we observed from that point onwards, $G_t$. This serves as our proxy for the specific value of taking that action in that state.\n",
        "2.  **Estimate the baseline value of state $s_t$**: This is the trickiest part. A simple (though imperfect) baseline is the **mean of all the discounted returns** calculated during that episode. It's like saying, \"On average, this episode was worth *X* points, so we'll use that as our baseline for every state.\"\n",
        "\n",
        "So, our practical, Monte Carlo advantage estimate for a given timestep $t$ becomes:\n",
        "\n",
        "$$A_t \\approx G_t - \\text{mean}(G)$$\n",
        "\n",
        "This simple change is the first step towards a family of more advanced algorithms called **Actor-Critic** methods."
      ]
    },
    {
      "cell_type": "markdown",
      "metadata": {
        "id": "kjR8KUPjTYGu"
      },
      "source": [
        "### ✏️ **Exercise: compute advantages**\n",
        "\n",
        "Let's use the returns to compute the Monte Carlo advantage for each step."
      ]
    },
    {
      "cell_type": "markdown",
      "metadata": {
        "id": "eQnPs6rGRTF9"
      },
      "source": [
        "<details>\n",
        "<summary>\n",
        "\n",
        "❓ **Hints (expand if you are stuck)** ❓\n",
        "\n",
        "</summary>\n",
        "\n",
        "* You’ve already computed the **discounted return** `G_t` for each timestep using `compute_discounted_return`.\n",
        "* A **baseline** is a value we subtract from the return to reduce variance — in this case, we’ll use the **mean of all discounted returns**.\n",
        "* The **advantage** is defined as `A_t = G_t - baseline`. This gives us a relative measure of how good a return is compared to the average.\n",
        "\n",
        "</details>"
      ]
    },
    {
      "cell_type": "code",
      "execution_count": null,
      "metadata": {
        "id": "M1IhknPoJ8vW"
      },
      "outputs": [],
      "source": [
        "def compute_mc_advantages(rewards: list[float], discount_factor: float) -> tuple[np.ndarray, np.ndarray, float]:\n",
        "    \"\"\"\n",
        "    Calculates the advantage A_t for each timestep using Monte Carlo estimates.\n",
        "\n",
        "    Args:\n",
        "        rewards: A list of rewards obtained during the episode.\n",
        "        discount_factor: The discount factor gamma.\n",
        "\n",
        "    Returns:\n",
        "        Tuple of:\n",
        "            - np.ndarray: Array where each element i is the advantage A_i.\n",
        "            - np.ndarray: The discounted returns G_t for each timestep.\n",
        "            - float: The baseline (mean of all discounted returns).\n",
        "    \"\"\"\n",
        "    # 1. First, calculate the discounted return G_t for every step.\n",
        "    discounted_returns = compute_discounted_return(rewards, discount_factor)\n",
        "\n",
        "    # --- YOUR CODE HERE ---\n",
        "    # 2. Calculate the baseline.\n",
        "    # baseline = ...\n",
        "\n",
        "    # 3. Calculate the advantages.\n",
        "    # advantages = ...\n",
        "    # ----------------------\n",
        "\n",
        "    return advantages, discounted_returns, baseline"
      ]
    },
    {
      "cell_type": "code",
      "execution_count": null,
      "metadata": {
        "cellView": "form",
        "id": "RaVhQf6SSP-r"
      },
      "outputs": [],
      "source": [
        "#@title Solution\n",
        "\n",
        "def compute_mc_advantages(rewards: list[float], discount_factor: float) -> tuple[np.ndarray, np.ndarray, float]:\n",
        "    \"\"\"\n",
        "    Calculates the advantage A_t for each timestep using Monte Carlo estimates.\n",
        "\n",
        "    Args:\n",
        "        rewards: A list of rewards obtained during the episode.\n",
        "        discount_factor: The discount factor gamma.\n",
        "\n",
        "    Returns:\n",
        "        Tuple of:\n",
        "            - np.ndarray: Array where each element i is the advantage A_i.\n",
        "            - np.ndarray: The discounted returns G_t for each timestep.\n",
        "            - float: The baseline (mean of all discounted returns).\n",
        "    \"\"\"\n",
        "    # 1. First, calculate the discounted return G_t for every step.\n",
        "    discounted_returns = compute_discounted_return(rewards, discount_factor)\n",
        "\n",
        "    # 2. Calculate the baseline.\n",
        "    baseline = np.mean(discounted_returns)\n",
        "\n",
        "    # 3. Calculate the advantages.\n",
        "    advantages = discounted_returns - baseline\n",
        "\n",
        "    return advantages, discounted_returns, baseline"
      ]
    },
    {
      "cell_type": "code",
      "execution_count": null,
      "metadata": {
        "colab": {
          "base_uri": "https://localhost:8080/"
        },
        "id": "PRqhOrALJ-87",
        "outputId": "05d9d32e-db5e-4aa3-fe5a-d191c5175f75"
      },
      "outputs": [],
      "source": [
        "# @title Example usage (run cell and read through the output).\n",
        "\n",
        "# Imagine an episode in a simple game with the following rewards:\n",
        "# Step 0: Agent moves, gets reward -1.\n",
        "# Step 1: Agent moves, gets reward -1.\n",
        "# Step 2: Agent finds food, gets reward +10.\n",
        "# Step 3: Agent hits a wall and episode ends, gets reward -5.\n",
        "rewards_from_episode = [-1.0, -1.0, 10.0, -5.0]\n",
        "\n",
        "# Calculate the advantages for this episode.\n",
        "advantages, returns, baseline_value = compute_mc_advantages(rewards_from_episode, discount_factor=1.0)\n",
        "\n",
        "print(\"--- Advantage calculation breakdown ---\")\n",
        "print(f\"Original rewards:         {np.array(rewards_from_episode)}\")\n",
        "print(\"-\" * 35)\n",
        "\n",
        "print(f\"Discounted returns (G_t): {returns}\")\n",
        "print(f\"Baseline (mean of G_t):   {baseline_value}\")\n",
        "print(f\"Advantages (G_t - V):     {advantages}\")\n",
        "print(\"-\" * 35)\n",
        "\n",
        "print(\"\\n--- Interpretation ---\")\n",
        "print(f\"The action at Step 2 led to a return of {returns[2]:.2f}, which is much higher than the average return of {baseline_value}.\")\n",
        "print(f\"Therefore, it gets a large positive advantage of {advantages[2]}, strongly reinforcing that action.\")\n",
        "print(f\"Conversely, the action at Step 3 led to a low return, resulting in a negative advantage of {advantages[3]}.\")"
      ]
    },
    {
      "cell_type": "markdown",
      "metadata": {
        "id": "OAt8FpJ3Mxin"
      },
      "source": [
        "### Updating the objective function\n",
        "\n",
        "Now that we have a way to compute advantages, we need to update our objective function to use them instead of the raw discounted returns.\n",
        "\n",
        "The old REINFORCE objective was:\n",
        "\n",
        "`objective = -(action_log_probs * discounted_returns)`\n",
        "\n",
        "Our new objective will be:\n",
        "\n",
        "`objective = -(action_log_probs * advantages)`\n"
      ]
    },
    {
      "cell_type": "markdown",
      "metadata": {
        "id": "4pkGxGmEWGvt"
      },
      "source": [
        "### ✏️ **Exercise: The new advantage objective**\n",
        "\n",
        "Fill in the `advantage_objective` function below. It's very similar to the `reinforce_objective` but uses advantages."
      ]
    },
    {
      "cell_type": "code",
      "execution_count": null,
      "metadata": {
        "id": "90-D_XDPM2eH"
      },
      "outputs": [],
      "source": [
        "# Implement the new objective function using advantages according to the formula above.\n",
        "def advantage_objective(action_log_probs: np.ndarray, advantages: np.ndarray) -> np.ndarray:\n",
        "  # --- YOUR CODE HERE ---\n",
        "  # objective = ...\n",
        "  # return ...\n",
        "  # ----------------------"
      ]
    },
    {
      "cell_type": "code",
      "execution_count": null,
      "metadata": {
        "cellView": "form",
        "id": "-CUpFt4DWMk3"
      },
      "outputs": [],
      "source": [
        "#@title Solution\n",
        "\n",
        "def advantage_objective(action_log_probs: np.ndarray, advantages: np.ndarray) -> np.ndarray:\n",
        "  objective = -(action_log_probs * advantages)\n",
        "  objective = jnp.mean(objective)\n",
        "  return objective"
      ]
    },
    {
      "cell_type": "markdown",
      "metadata": {
        "id": "il9iJh2gNShu"
      },
      "source": [
        "Now, in our training loop, we would simply replace the call to `compute_discounted_return` with a call to `compute_advantage_mc` and use our new `advantage_objective` when calculating the gradients. This single change often leads to more stable training -- see in the plot below how the variance in gradient norms changes with this simple advantage estimation addition."
      ]
    },
    {
      "cell_type": "code",
      "execution_count": null,
      "metadata": {
        "cellView": "form",
        "colab": {
          "base_uri": "https://localhost:8080/",
          "height": 504,
          "referenced_widgets": [
            "fafdb7ea15b044faa3f691ac1ae8ad0a",
            "cab6b557e622480fadc877ec27ec8fa9",
            "40ca90ad92d34dd19d23c3a9b1911192",
            "a6f59742b6794c7cb301dd916cc1f915",
            "4e5e244638f6413a8458ad4659eb3bc7",
            "c300cb1388924c5a8009ec29f98ef9fa",
            "d4f80944974740adb609927156fd54b6",
            "bf27fc19349542c48cf4dcfe7aa6267c",
            "9b93fb55f6ec4ba3a64374227694a4c0",
            "eccc6732c67b4952b3ee6280bd0d9328",
            "09f12385be4347b59a81e3b00d6dac9e"
          ]
        },
        "id": "y-DHSjPmOz8k",
        "outputId": "ec3b5cc4-3802-4441-c624-8628e8d863be"
      },
      "outputs": [],
      "source": [
        "#@title Run simulation and compare Advantage grad norms with REINFORCE grad norms.\n",
        "\n",
        "# Batched objective function with advantage!\n",
        "def batched_reinforce_loss_with_advantage_function(policy_params, observations, actions, advantages):\n",
        "  batch_logits = batched_policy_apply(policy_params, observations)\n",
        "  batch_action_log_probabilities = batched_get_action_log_prob(batch_logits, actions)\n",
        "  reinforce_objective_value = advantage_objective(batch_action_log_probabilities, advantages)\n",
        "  return reinforce_objective_value\n",
        "\n",
        "\n",
        "num_episodes_in_simulation = 20\n",
        "\n",
        "# Store gradient norms over episodes to comapre with REINFORCE gradient norms.\n",
        "advantage_gradient_norms = []\n",
        "\n",
        "for episode in notebook.tqdm(range(num_episodes_in_simulation)):\n",
        "    rewards = []\n",
        "    observations = []\n",
        "    actions = []\n",
        "\n",
        "    episode_return = 0\n",
        "    obs, info = env.reset()\n",
        "    done = False\n",
        "\n",
        "    while not done:\n",
        "        grid_obs = obs['grid']\n",
        "        logits = jit_policy_network_apply(policy_params, grid_obs)\n",
        "\n",
        "        action_mask = obs['action_mask']\n",
        "        logits = jit_mask_illegal_actions(logits, action_mask, jnp.finfo(jnp.float32).min)\n",
        "\n",
        "        key, action_key = jax.random.split(key)\n",
        "        action = jit_sample_action(logits, action_key)\n",
        "\n",
        "        observations.append(grid_obs)\n",
        "        actions.append(action)\n",
        "\n",
        "        obs, reward, done, info = env.step(action)\n",
        "        rewards.append(reward)\n",
        "        episode_return += reward\n",
        "\n",
        "    advantages, _, _ = compute_mc_advantages(rewards, discount_factor=0.99)\n",
        "    observations = jnp.array(observations)\n",
        "    actions = jnp.array(actions)\n",
        "\n",
        "    gradients = jax.grad(batched_reinforce_loss_with_advantage_function)(policy_params, observations, actions, advantages)\n",
        "\n",
        "    def flatten_and_concatenate(tree):\n",
        "        return jnp.concatenate([jnp.ravel(x) for x in jax.tree_util.tree_leaves(tree)])\n",
        "\n",
        "    grad_vector = flatten_and_concatenate(gradients)\n",
        "    grad_norm = jnp.linalg.norm(grad_vector)\n",
        "    advantage_gradient_norms.append(float(grad_norm))\n",
        "\n",
        "# Plot gradient norms over episodes\n",
        "plt.plot(range(num_episodes_in_simulation), gradient_norms, color='blue', label='plain REINFORCE')\n",
        "plt.plot(range(num_episodes_in_simulation), advantage_gradient_norms, color='red', label='with Advantage')\n",
        "plt.xlabel(\"Episode\")\n",
        "plt.ylabel(\"Gradient Norm\")\n",
        "plt.title(\"Gradient Norm Over Episodes\")\n",
        "plt.legend(loc=0)\n",
        "plt.grid(True)\n",
        "plt.show()"
      ]
    },
    {
      "cell_type": "markdown",
      "metadata": {
        "id": "N4LPMGMhS2J0"
      },
      "source": [
        "### 🤔 Limitation of Monte Carlo Advantages\n",
        "\n",
        "While this simple baseline is better than nothing, it's still quite basic.\n",
        "\n",
        "1.  **Coarse-grained baseline:** It assigns the same baseline value to *every single state* in the episode. Intuitively, we know some states are inherently better than others (e.g., being close to the fruit vs. being trapped in a corner). A state-dependent baseline $b(S_t)$ would be much more powerful.\n",
        "2.  **Still Monte Carlo:** We still have to wait until the end of an episode to compute our returns and advantages. This can be very inefficient, especially in environments with very long episodes. What if we could update our policy *during* an episode?\n",
        "\n",
        "To solve these issues, we need to move beyond simple averaging. We need a way to learn a state-dependent baseline $V^\\pi(s)$, and a way to update our policy without waiting for the full episode to finish. This leads us to our next topics: **learned baselines** and **bootstrapping**."
      ]
    },
    {
      "cell_type": "markdown",
      "metadata": {
        "id": "q6F45XeH9fTS"
      },
      "source": [
        "## Learned Baselines"
      ]
    },
    {
      "cell_type": "markdown",
      "metadata": {
        "id": "1t4FH4NYH5eZ"
      },
      "source": [
        "So far we have looked at ways for us to estimate the value of the state-value function. But what if we could learn that function directly from our data?\n",
        "\n",
        "This is exactly what is done in actor-critic methods."
      ]
    },
    {
      "cell_type": "markdown",
      "metadata": {
        "id": "LsBAr6PYrCAg"
      },
      "source": [
        "An important note here, is that we need to think about what we want learn with $V^{\\pi}(s)$?"
      ]
    },
    {
      "cell_type": "markdown",
      "metadata": {
        "id": "Le6GiJ2TrQWM"
      },
      "source": [
        "### ✏️ **Exercise: What should the Value network try to learn?**\n",
        "\n",
        "What do you think would be a suitable target from what you have previoulsy seen that the value network can try to approximate?"
      ]
    },
    {
      "cell_type": "markdown",
      "metadata": {
        "id": "OyBtD831IeLE"
      },
      "source": [
        "### Solution"
      ]
    },
    {
      "cell_type": "markdown",
      "metadata": {
        "id": "yE31zAKJrV-H"
      },
      "source": [
        "Indeed, what we are attempting to learn here is the discounted future return given the current environment state. Since we don't have access to these values in RL due to non-existance of a ground truth data set, we need to build our own estimate. In this case the estimate we will use is the discounted return $G_t$ that can be expected from the current state $S_t$. Note how this is a perfect baseline to use since it is a function that depends only on $S_t$ and not $A_t$."
      ]
    },
    {
      "cell_type": "markdown",
      "metadata": {
        "id": "cGjUlyVYJfmB"
      },
      "source": [
        "### Implementing a Critic network"
      ]
    },
    {
      "cell_type": "markdown",
      "metadata": {
        "id": "FOiO4bSOr1vT"
      },
      "source": [
        "Another advantage of taking this approach is that we are already computing the discounted return in REINFORCE. We now just need to parameterise $V^{\\pi}(s)$ in a smart way and learn its optimal parameters. Thankfully, we have already seen that we can paramterise high-dimensional functions using neural networks in RL which is exactly the approach we will take here. This value network is typically referred to to as a Critic in RL for reasons we will not discuss in detail, but this is why you will see the network called a Critic network instead of a value network."
      ]
    },
    {
      "cell_type": "code",
      "execution_count": null,
      "metadata": {
        "id": "_17XcTRNr1Gm"
      },
      "outputs": [],
      "source": [
        "# Define the critic network\n",
        "\n",
        "class CriticNetwork(nn.Module):\n",
        "\n",
        "  @nn.compact\n",
        "  def __call__(self, observation):\n",
        "      # Shared layers (already complete)\n",
        "      hidden = nn.Dense(64)(observation.flatten())\n",
        "      hidden = nn.relu(hidden)\n",
        "      hidden = nn.Dense(64)(hidden)\n",
        "      hidden = nn.relu(hidden)\n",
        "\n",
        "      critic_value = nn.Dense(1)(hidden)\n",
        "\n",
        "      # 2. Return the critic's value.\n",
        "      # Critic's output to make it a scalar!\n",
        "      return critic_value.squeeze(axis=-1)"
      ]
    },
    {
      "cell_type": "markdown",
      "metadata": {
        "id": "xS4ukmN_OI9c"
      },
      "source": [
        "Let's initiliased the critic network along with its parameters and an optimiser for it."
      ]
    },
    {
      "cell_type": "code",
      "execution_count": null,
      "metadata": {
        "id": "lEbFzfYfyZEA"
      },
      "outputs": [],
      "source": [
        "critic_network = CriticNetwork()\n",
        "key, critic_init_key = jax.random.split(key)\n",
        "critic_params = critic_network.init(critic_init_key, dummy_obs)\n",
        "\n",
        "critic_optim = optax.adam(learning_rate=5e-4)\n",
        "critic_opt_state = critic_optim.init(critic_params)"
      ]
    },
    {
      "cell_type": "markdown",
      "metadata": {
        "id": "DIOUIlZGta0K"
      },
      "source": [
        "### ✏️ **Exercise: Learnt Value Objective**\n",
        "\n",
        "Can you think of a suitable objective function that will help the critic network slowly regress towards the critic value?"
      ]
    },
    {
      "cell_type": "markdown",
      "metadata": {
        "id": "64tagA7CIvOD"
      },
      "source": [
        "### Solution"
      ]
    },
    {
      "cell_type": "markdown",
      "metadata": {
        "id": "0VVeVeSqtrd3"
      },
      "source": [
        "Indeed! A perfect candidate for this is the Mean Squared Error (MSE) loss. Let's implement it."
      ]
    },
    {
      "cell_type": "code",
      "execution_count": null,
      "metadata": {
        "id": "uSJJ2iuttxxE"
      },
      "outputs": [],
      "source": [
        "def critic_loss(predicted_discounted_returns, target_discounted_returns):\n",
        "\n",
        "  squared_error = (predicted_discounted_returns - target_discounted_returns)**2\n",
        "\n",
        "  return jnp.mean(squared_error)"
      ]
    },
    {
      "cell_type": "markdown",
      "metadata": {
        "id": "caGLoZipI2li"
      },
      "source": [
        "### Use the learnt value to decrease the variance in the advantages"
      ]
    },
    {
      "cell_type": "markdown",
      "metadata": {
        "id": "ca7-2MhtuLP1"
      },
      "source": [
        "Aside from only defining the objective, the network and the optimiser we can now update our advantge computation function to use the new learnt value baseline.  "
      ]
    },
    {
      "cell_type": "code",
      "execution_count": null,
      "metadata": {
        "id": "cxXdwmReuYXC"
      },
      "outputs": [],
      "source": [
        "def compute_learnt_baseline_advantages(rewards: list[float], discount_factor: float, predicted_state_values):\n",
        "    \"\"\"\n",
        "    Calculates the advantage A_t for each timestep using Monte Carlo estimates.\n",
        "\n",
        "    Args:\n",
        "        rewards: Rewards obtained during the episode.\n",
        "        discount_factor: Discount factor gamma.\n",
        "\n",
        "    Returns:\n",
        "        np.ndarray: An array where each element i is the advantage A_i.\n",
        "    \"\"\"\n",
        "    # 1. First, calculate the discounted return G_t for every step.\n",
        "    discounted_returns = compute_discounted_return(rewards, discount_factor)\n",
        "\n",
        "    # YOUR CODE HERE\n",
        "    # Use the correct baseline\n",
        "    baseline = ...\n",
        "\n",
        "    # 3. Calculate the advantage.\n",
        "    advantages = discounted_returns - baseline\n",
        "\n",
        "    return advantages, discounted_returns, baseline"
      ]
    },
    {
      "cell_type": "markdown",
      "metadata": {
        "id": "-krUprabO1o1"
      },
      "source": [
        "### Solution"
      ]
    },
    {
      "cell_type": "code",
      "execution_count": null,
      "metadata": {
        "id": "mqlL-mNROzEs"
      },
      "outputs": [],
      "source": [
        "def compute_learnt_baseline_advantages(rewards: list[float], discount_factor: float, predicted_state_values):\n",
        "    \"\"\"\n",
        "    Calculates the advantage A_t for each timestep using Monte Carlo estimates.\n",
        "\n",
        "    Args:\n",
        "        rewards: Rewards obtained during the episode.\n",
        "        discount_factor: Discount factor gamma.\n",
        "\n",
        "    Returns:\n",
        "        np.ndarray: An array where each element i is the advantage A_i.\n",
        "    \"\"\"\n",
        "    # 1. First, calculate the discounted return G_t for every step.\n",
        "    discounted_returns = compute_discounted_return(rewards, discount_factor)\n",
        "\n",
        "    # 2. Use the predicted state values as the baseline\n",
        "    baseline = predicted_state_values\n",
        "\n",
        "    # 3. Calculate the advantage.\n",
        "    advantages = discounted_returns - baseline\n",
        "\n",
        "    return advantages, discounted_returns, baseline"
      ]
    },
    {
      "cell_type": "markdown",
      "metadata": {
        "id": "lMloYnvah3p7"
      },
      "source": [
        "### Compare Advantage grad norms"
      ]
    },
    {
      "cell_type": "code",
      "execution_count": null,
      "metadata": {
        "cellView": "form",
        "colab": {
          "base_uri": "https://localhost:8080/",
          "height": 243,
          "referenced_widgets": [
            "e639738a52a64073859ec8e3dee920f6",
            "f7b88d91850a4727b6a447fd87502f5f",
            "0189d62843e94f589ee7771436283106",
            "880581e2b4d047bd9b82dd40d72a80d7",
            "a6545013f841474496a5c9d9c95608df",
            "ecc76483e7d947ffa985828487a81fb6",
            "513645c6b5134716aef77f463fc4331d",
            "ffa30c077e174b90b970314147e2c3bd",
            "2af4daba200748fb9e3c16e969559ff7",
            "e549e41fd76f4c7ab4997f4bb16cedc4",
            "b697b70cdb174ee783fe1132c54a8455"
          ]
        },
        "id": "AORNE8VlyLwQ",
        "outputId": "5330a028-c636-4223-9f18-a3a421bbeb22"
      },
      "outputs": [],
      "source": [
        "#@title Run simulation\n",
        "\n",
        "jit_critic_network_apply = jax.jit(critic_network.apply)\n",
        "jit_critic_optim_update = jax.jit(critic_optim.update)\n",
        "batched_critic_apply = jax.vmap(critic_network.apply, in_axes=(None, 0))\n",
        "\n",
        "# Batched objective function with advantage!\n",
        "def batched_reinforce_loss_with_advantage_function(policy_params, observations, actions, advantages):\n",
        "  batch_logits = batched_policy_apply(policy_params, observations)\n",
        "  batch_action_log_probabilities = batched_get_action_log_prob(batch_logits, actions)\n",
        "  reinforce_objective_value = advantage_objective(batch_action_log_probabilities, advantages)\n",
        "  return reinforce_objective_value\n",
        "\n",
        "def batched_critic_loss(critic_params, observations, target_discounted_returns):\n",
        "  batch_predicted_values = batched_critic_apply(critic_params, observations)\n",
        "  critic_objective_value = critic_loss(batch_predicted_values, target_discounted_returns)\n",
        "  return critic_objective_value\n",
        "\n",
        "num_episodes_in_simulation = 20\n",
        "\n",
        "# Store gradient norms over episodes to comapre with REINFORCE gradient norms.\n",
        "learnt_value_advantage_gradient_norms = []\n",
        "\n",
        "for episode in notebook.tqdm(range(num_episodes_in_simulation)):\n",
        "    rewards = []\n",
        "    observations = []\n",
        "    actions = []\n",
        "\n",
        "    # We will keep track of the values that our critic estimates.\n",
        "    estimated_state_values = []\n",
        "\n",
        "    episode_return = 0\n",
        "    obs, info = env.reset()\n",
        "    done = False\n",
        "\n",
        "    while not done:\n",
        "        grid_obs = obs['grid']\n",
        "        logits = jit_policy_network_apply(policy_params, grid_obs)\n",
        "        predicted_state_value = jit_critic_network_apply(critic_params, grid_obs)\n",
        "\n",
        "        action_mask = obs['action_mask']\n",
        "        logits = jit_mask_illegal_actions(logits, action_mask, jnp.finfo(jnp.float32).min)\n",
        "\n",
        "        key, action_key = jax.random.split(key)\n",
        "        action = jit_sample_action(logits, action_key)\n",
        "\n",
        "        observations.append(grid_obs)\n",
        "        actions.append(action)\n",
        "        estimated_state_values.append(predicted_state_value)\n",
        "\n",
        "        obs, reward, done, info = env.step(action)\n",
        "        rewards.append(reward)\n",
        "        episode_return += reward\n",
        "\n",
        "    estimated_state_values = jnp.array(estimated_state_values)\n",
        "    advantages, discounted_return_targets, _ = compute_learnt_baseline_advantages(rewards, discount_factor=0.99, predicted_state_values=estimated_state_values)\n",
        "    observations = jnp.array(observations)\n",
        "    actions = jnp.array(actions)\n",
        "\n",
        "    # We will continually update our critic's parameters as we gather more experience to\n",
        "    # learn the value function.\n",
        "    critic_gradients = jax.grad(batched_critic_loss)(critic_params, observations, discounted_return_targets)\n",
        "    critic_updates, critic_new_opt_state = jit_critic_optim_update(critic_gradients, critic_opt_state)\n",
        "    critic_params = optax.apply_updates(critic_params, critic_updates)\n",
        "    critic_opt_state = critic_new_opt_state\n",
        "\n",
        "    gradients = jax.grad(batched_reinforce_loss_with_advantage_function)(policy_params, observations, actions, advantages)\n",
        "\n",
        "    def flatten_and_concatenate(tree):\n",
        "        return jnp.concatenate([jnp.ravel(x) for x in jax.tree_util.tree_leaves(tree)])\n",
        "\n",
        "    grad_vector = flatten_and_concatenate(gradients)\n",
        "    grad_norm = jnp.linalg.norm(grad_vector)\n",
        "    learnt_value_advantage_gradient_norms.append(float(grad_norm))\n",
        "\n",
        "# Plot gradient norms over episodes\n",
        "plt.plot(range(num_episodes_in_simulation), gradient_norms, color='blue', label='plain REINFORCE')\n",
        "plt.plot(range(num_episodes_in_simulation), advantage_gradient_norms, color='red', label='with Monte Carlo Advantage')\n",
        "plt.plot(range(num_episodes_in_simulation), learnt_value_advantage_gradient_norms, color='green', label='with Learnt Value Advantage')\n",
        "plt.xlabel(\"Episode\")\n",
        "plt.ylabel(\"Gradient Norm\")\n",
        "plt.title(\"Gradient Norm Over Episodes\")\n",
        "plt.legend(loc=0)\n",
        "plt.grid(True)\n",
        "plt.show()"
      ]
    },
    {
      "cell_type": "markdown",
      "metadata": {
        "id": "QGcgg8Ezpp4r"
      },
      "source": [
        "### ✏️ **Exercise: Wait what?!**\n",
        "\n",
        "Isn't a baseline supposed to help decrease the variance here? Why do you think the learnt value function is not yet succeeding in decreasing the variance?"
      ]
    },
    {
      "cell_type": "markdown",
      "metadata": {
        "id": "oEtMgYmx9otW"
      },
      "source": [
        "## 3. Bootstrapping"
      ]
    },
    {
      "cell_type": "markdown",
      "metadata": {
        "id": "UehXAm5xv2Cd"
      },
      "source": [
        "Now that we have a way to learn the value of a state, we can use this to we can use this to update our policy more frequently. Because the value of a state represents the expected future rewards, we can use our learned value function to speed up learning, rather than waiting until an entire episode is complete.\n",
        "\n",
        "We do this by using our value function to make an ***educated guess*** of the future value of our current state. Then we use this guess and our current reward to update our policy.\n",
        "\n",
        "In other words, we update estimates on the basis of other estimates. We call this general idea **bootstrapping** 👢\n",
        "\n",
        "This is in contrast to the Monte Carlo approach used in REINFORCE, where you had to wait for the full episode return $G_t$ to update the policy. Bootstrapping allows for online learning from partial rollouts.\n",
        "\n",
        "For our A2C agent, we will use a bootstrapped estimate of the advantage $A_t$:\n",
        "\n",
        "$$\\hat A_t = \\color{blue}{r_t + \\gamma V(s_{t+1})} - V(s_t)$$\n",
        "\n",
        "Here we can see that:\n",
        "\n",
        "* The term $\\color{blue}{r_t + \\gamma V(s_{t+1})}$ is our new, improved estimate for the value of state $s_t$. It's called the **Temporal Difference (TD) Target**. It combines a real, immediate reward ($r_t$) with an ***estimated*** future reward ($\\gamma V(s_{t+1})$).\n",
        "\n",
        "* The entire expression, $(r_t + \\gamma V(s_{t+1})) - V(s_t)$, is called the **TD Error**. It measures the difference between our new, better estimate (the TD Target) and our old estimate ($V(s_t)$).\n",
        "\n",
        "This TD Error is incredibly useful for two reasons:\n",
        "\n",
        "* **It trains the Critic:** The critic's job is to get better at predicting state values. It does this by trying to minimize the TD Error. A smaller error means its predictions ($V(s_t)$) are getting closer to the target ($r_t + \\gamma V(s_{t+1})$).\n",
        "\n",
        "* **It trains the Actor:** The TD Error serves as a much **lower-variance** estimate of the advantage function. Instead of using the high-variance Monte Carlo return ($G_t - V(s_t)$), we now use this TD Error to scale our policy gradients. If the TD error is positive (the action led to a better-than-expected outcome), we increase the probability of taking that action. If it's negative, we decrease it.\n",
        "\n",
        "This forms the core of our Advantage Actor-Critic (A2C) agent. We use a single, bootstrapped value to update both the actor and the critic simultaneously."
      ]
    },
    {
      "cell_type": "markdown",
      "metadata": {
        "id": "YcYb_42nmdCO"
      },
      "source": [
        "![image.png](data:image/png;base64,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)"
      ]
    },
    {
      "cell_type": "markdown",
      "metadata": {
        "id": "-2HR4qnMAw0s"
      },
      "source": [
        "### **The Bias Variance Trade-Off**\n",
        "The issue with using a learned value function to reduce the variance of the policy gradient estimate is that this function introduces bias simply because it isn't the true value function, it is an approximation and any errors in this approximation introduce bias. This trade-off is made in all RL algorithms, we will discuss in a later section how we can better balance bias and variance. For A2C we will use the high bias, low variance TD error.\n",
        "\n",
        "$$\\hat A_t = r_t + \\gamma V(s_{t+1}) - V(s_t)$$\n",
        "\n",
        "### **Why Bootstrapping Reduces Variance**\n",
        "**Monte Carlo returns** depend on the entire sequence of future events in an episode. The final return $G_t = r_t + \\gamma r_{t+1} + \\gamma^2 r_{t+2} \\dots$ is the sum of many random variables: every action taken and every resulting state and reward until the episode ends. This accumulation of many random outcomes creates high variance.\n",
        "\n",
        "**The TD target** ($r_t + \\gamma V(s_{t+1})$) depends on only one random event: the outcome of the very next step (the reward $r_t$ and next state $s_{t+1}$). Everything that happens after that is summarized by the learned value estimate $V(s_{t+1})$, which is a single, stable prediction. Because it only includes one step of real-world randomness, its value is far more consistent from one moment to the next.\n",
        "\n",
        "In short, MC sums up a long sequence of random events, while TD uses just one random event plus a stable estimate. Fewer random variables result in lower variance."
      ]
    },
    {
      "cell_type": "markdown",
      "metadata": {
        "id": "OZ6B-ax-9r13"
      },
      "source": [
        "## 4. Implementing A2C"
      ]
    },
    {
      "cell_type": "markdown",
      "metadata": {
        "id": "JRKkP-gj7QCf"
      },
      "source": [
        "### ✏️ **Exercise: Updating the REINFORCE Policy Network for A2C**"
      ]
    },
    {
      "cell_type": "markdown",
      "metadata": {
        "id": "x7qs1hKfEE7o"
      },
      "source": [
        "See if you can complete the ActorCriticNetwork class below.\n",
        "\n",
        "In Actor-Critic methods, we use a single network that performs two roles. It has shared layers for general feature extraction which then split into two specialized \"heads\":\n",
        "\n",
        "\n",
        "\n",
        "1.   An **Actor Head** that outputs action logits for action selection. (**This part is already complete for you**).\n",
        "2.   A **Critic Head** that outputs a single state-value estimate, V(s), to estimate the value of the current state.\n",
        "\n",
        "\n",
        "Your task is to **add the critic head to the network**. To do this, your __call__ function must:\n",
        "\n",
        "1. Take the final hidden features from the shared layers and pass them through a new Dense layer to produce a single scalar value. This will be your critic_value.\n",
        "2. Update the function to return both the existing actor_logits and your new critic_value.\n",
        "3. **Hint:** Remember to use jnp.squeeze() on the critic's output to ensure it's a scalar value (e.g., shape ()) rather than a vector with one element (e.g., shape (1,))."
      ]
    },
    {
      "cell_type": "code",
      "execution_count": null,
      "metadata": {
        "id": "RBV8acE_-xAO"
      },
      "outputs": [],
      "source": [
        "class ActorCriticNetwork(nn.Module):\n",
        "    \"\"\"An actor-critic network that shares the initial layers.\"\"\"\n",
        "    @nn.compact\n",
        "    def __call__(self, observation):\n",
        "        # Shared layers (already complete)\n",
        "        hidden = nn.Dense(64)(observation.flatten())\n",
        "        hidden = nn.relu(hidden)\n",
        "        hidden = nn.Dense(64)(hidden)\n",
        "        hidden = nn.relu(hidden)\n",
        "\n",
        "        # Actor head (policy - already complete)\n",
        "        actor_logits = nn.Dense(num_actions)(hidden)\n",
        "\n",
        "        # --- YOUR CODE HERE ---\n",
        "\n",
        "        # 1. Create the critic head: a Dense layer that outputs a single value for the state-value estimate.\n",
        "        critic_value = # ...\n",
        "\n",
        "        # 2. Return both the actor's logits and the critic's value.\n",
        "        # Don't forget to squeeze the critic's output to make it a scalar!\n",
        "        return actor_logits, # ..."
      ]
    },
    {
      "cell_type": "code",
      "execution_count": null,
      "metadata": {
        "cellView": "form",
        "colab": {
          "base_uri": "https://localhost:8080/"
        },
        "id": "sIlDc7Io-50Z",
        "outputId": "89af47b1-53d3-48e4-f761-9362573b998c"
      },
      "outputs": [],
      "source": [
        "#@title Check Exercise (run me)\n",
        "print(\"Running network test...\")\n",
        "try:\n",
        "    # 1. Instantiate the network and create dummy data\n",
        "    ac_network_test = ActorCriticNetwork()\n",
        "    dummy_obs_test = jnp.ones(observation_shape)\n",
        "    key, test_key = jax.random.split(key)\n",
        "\n",
        "    # 2. Initialize parameters\n",
        "    test_params = ac_network_test.init(test_key, dummy_obs_test)\n",
        "\n",
        "    # 3. Get the outputs from the network\n",
        "    logits_out, value_out = ac_network_test.apply(test_params, dummy_obs_test)\n",
        "\n",
        "    # 4. Check the output shapes are correct\n",
        "    assert logits_out.shape == (num_actions,), f\"Logits shape is wrong! Expected {(num_actions,)}, but got {logits_out.shape}\"\n",
        "    assert value_out.shape == (), f\"Critic value should be a scalar! Expected shape (), but got {value_out.shape}\"\n",
        "\n",
        "    print(\"✅ Success! Your `ActorCriticNetwork` returns two outputs with the correct shapes.\")\n",
        "    print(f\"   - Logits output shape: {logits_out.shape}\")\n",
        "    print(f\"   - Value output shape: {value_out.shape}\")\n",
        "\n",
        "except Exception as e:\n",
        "    print(\"\\n❌ Oops! An error occurred. Read the message below and check your network implementation.\")\n",
        "    print(f\"   Error: {e}\")\n",
        "    print(\"\\n   Common mistakes to check:\")\n",
        "    print(\"   - Did you return two items from the `__call__` method?\")\n",
        "    print(\"   - Did you remember to use `jnp.squeeze()` on the critic's output?\")"
      ]
    },
    {
      "cell_type": "code",
      "execution_count": null,
      "metadata": {
        "cellView": "form",
        "id": "FzuIdPnf_Z-5"
      },
      "outputs": [],
      "source": [
        "#@title Answer to Exercise (run me)\n",
        "\n",
        "# 2. Create Actor-Critic Network\n",
        "class ActorCriticNetwork(nn.Module):\n",
        "    \"\"\"An actor-critic network that shares the initial layers.\"\"\"\n",
        "    @nn.compact\n",
        "    def __call__(self, observation):\n",
        "        # Shared layers\n",
        "        hidden = nn.Dense(64)(observation.flatten()) # Flatten the grid observation\n",
        "        hidden = nn.relu(hidden)\n",
        "        hidden = nn.Dense(64)(hidden)\n",
        "        hidden = nn.relu(hidden)\n",
        "\n",
        "        # Actor head (policy)\n",
        "        actor_logits = nn.Dense(num_actions)(hidden)\n",
        "\n",
        "        # Critic head (value)\n",
        "        critic_value = nn.Dense(1)(hidden)\n",
        "\n",
        "        return actor_logits, jnp.squeeze(critic_value)"
      ]
    },
    {
      "cell_type": "markdown",
      "metadata": {
        "id": "wjjViWtI8L2B"
      },
      "source": [
        "### ✏️ **Exercise: A2C Objective**\n",
        "\n"
      ]
    },
    {
      "cell_type": "markdown",
      "metadata": {
        "id": "_AcHfjOrEKJU"
      },
      "source": [
        "See if you can **complete the a2c_loss_fn** below.\n",
        "\n",
        "The goal here is to **move away from the high-variance \"discounted return**\" used in REINFORCE. Instead, we'll **use our critic's estimates to create a more stable, one-step \"advantage\" signal**. To do this, your loss function must perform three key calculations:\n",
        "\n",
        "\n",
        "\n",
        "1.   **First, calculate the TD Target (r+γV(s′)):** You must compute the one-step target for the critic. This represents what the critic should have predicted for the current state. It's calculated by taking the immediate reward and adding the discounted value of the next state (next_values), which our critic provides.\n",
        "2.   **Second, calculate the Critic Loss:** You must then train the critic to get better at its job. The critic's loss is how far its prediction (values) was from the target_values you just calculated. We use the mean squared error for this.\n",
        "3. **Third, calculate the Advantage:** Finally, you'll compute the advantage for the actor. This is simply the difference between the target_values and what the critic actually predicted (values). This signal tells the actor whether the result of its action was better or worse than expected.\n",
        "\n",
        "**Hint:** When calculating the advantage, it's crucial to wrap the calculation in jax.lax.stop_gradient. This treats the critic's output as a fixed constant and prevents the actor's training signals from interfering with the critic's training."
      ]
    },
    {
      "cell_type": "code",
      "execution_count": null,
      "metadata": {
        "colab": {
          "base_uri": "https://localhost:8080/",
          "height": 106
        },
        "id": "Z4fEfXzJAcDN",
        "outputId": "b0242976-f3cc-4df3-a4d9-e401e8378d45"
      },
      "outputs": [],
      "source": [
        "def a2c_loss_fn(params, observations, actions, rewards, next_observations, dones):\n",
        "    \"\"\"Calculates the combined actor-critic loss.\"\"\"\n",
        "\n",
        "    # Get network outputs for the collected experience (already complete)\n",
        "    # We use vmap to efficiently process the entire batch of transitions\n",
        "    logits, values = jax.vmap(ac_network.apply, in_axes=(None, 0))(params, observations)\n",
        "    _, next_values = jax.vmap(ac_network.apply, in_axes=(None, 0))(params, next_observations)\n",
        "\n",
        "    # If the episode terminated, the value of the next state is 0 (already complete)\n",
        "    next_values = next_values * (1 - dones)\n",
        "\n",
        "    # --- YOUR CODE HERE ---\n",
        "\n",
        "    # 1. Calculate the TD Target for the critic.\n",
        "    #    This is the immediate reward plus the discounted value of the *next* state.\n",
        "    target_values = # ...\n",
        "\n",
        "    # 2. Calculate the critic's loss.\n",
        "    #    This is the mean squared error between the `target_values` and the critic's actual output `values`.\n",
        "    #    A 0.5 factor is common practice.\n",
        "    critic_loss = # ...\n",
        "\n",
        "    # 3. Calculate the advantage for the actor.\n",
        "    #    Use jax.lax.stop_gradient on the target_values to prevent gradients from flowing into the critic from the actor loss.\n",
        "    advantages = # ...\n",
        "\n",
        "    # --- End of your code ---\n",
        "\n",
        "\n",
        "    # Actor loss (policy gradient) (already complete)\n",
        "    log_probs = nn.log_softmax(logits)\n",
        "    action_log_probs = jax.vmap(lambda lp, a: lp[a])(log_probs, actions)\n",
        "    actor_loss = -jnp.mean(action_log_probs * advantages)\n",
        "\n",
        "    # Total loss is the sum of the actor and critic losses (already complete)\n",
        "    total_loss = actor_loss + critic_loss\n",
        "    return total_loss"
      ]
    },
    {
      "cell_type": "code",
      "execution_count": null,
      "metadata": {
        "colab": {
          "base_uri": "https://localhost:8080/"
        },
        "id": "A-FH2xwxBGHC",
        "outputId": "a1922f7f-944f-4074-bb6d-c13725c41297"
      },
      "outputs": [],
      "source": [
        "#@title Check Exercise for Correctness (run me)\n",
        "\n",
        "import jax\n",
        "import jax.numpy as jnp\n",
        "import flax.linen as nn\n",
        "from typing import Tuple\n",
        "\n",
        "# This cell will test if your a2c_loss_fn implementation is correct.\n",
        "print(\"Running correctness test for a2c_loss_fn...\")\n",
        "\n",
        "try:\n",
        "    # --- Test Setup ---.\n",
        "    num_actions = 2\n",
        "    observation_shape = (4,)\n",
        "    gamma = 0.99\n",
        "\n",
        "    class _SolutionActorCriticNetwork(nn.Module):\n",
        "        \"\"\"A correct actor-critic network for testing purposes.\"\"\"\n",
        "        @nn.compact\n",
        "        def __call__(self, observation: jnp.ndarray) -> Tuple[jnp.ndarray, jnp.ndarray]:\n",
        "            hidden = nn.Dense(64)(observation.flatten())\n",
        "            hidden = nn.relu(hidden)\n",
        "            hidden = nn.Dense(64)(hidden)\n",
        "            hidden = nn.relu(hidden)\n",
        "            actor_logits = nn.Dense(num_actions)(hidden)\n",
        "            critic_value = nn.Dense(1)(hidden)\n",
        "            return actor_logits, jnp.squeeze(critic_value, axis=-1)\n",
        "\n",
        "    solution_ac_network = _SolutionActorCriticNetwork()\n",
        "    key = jax.random.PRNGKey(42)\n",
        "    dummy_obs_for_init = jnp.ones((1,) + observation_shape)\n",
        "    params = solution_ac_network.init(key, dummy_obs_for_init)['params']\n",
        "\n",
        "    # 4. Define the correct, complete solution for the loss function\n",
        "    def solution_a2c_loss_fn(params, observations, actions, rewards, next_observations, dones):\n",
        "        \"\"\"The ground-truth solution for the loss function.\"\"\"\n",
        "        # Note: Flax requires params to be passed in a dict like {'params': ...}\n",
        "        param_dict = {'params': params}\n",
        "        logits, values = jax.vmap(solution_ac_network.apply, in_axes=(None, 0))(param_dict, observations)\n",
        "        _, next_values = jax.vmap(solution_ac_network.apply, in_axes=(None, 0))(param_dict, next_observations)\n",
        "        next_values = next_values * (1 - dones)\n",
        "        target_values = rewards + gamma * next_values\n",
        "        critic_loss = 0.5 * jnp.mean((target_values - values) ** 2)\n",
        "        advantages = jax.lax.stop_gradient(target_values - values)\n",
        "        log_probs = nn.log_softmax(logits)\n",
        "        action_log_probs = jax.vmap(lambda lp, a: lp[a])(log_probs, actions)\n",
        "        actor_loss = -jnp.mean(action_log_probs * advantages)\n",
        "        return actor_loss + critic_loss\n",
        "\n",
        "    # --- Test Execution ---\n",
        "\n",
        "    # 1. Create a dummy batch of data\n",
        "    batch_size = 2\n",
        "    dummy_obs_batch = jnp.ones((batch_size,) + observation_shape)\n",
        "    dummy_next_obs_batch = jnp.ones((batch_size,) + observation_shape)\n",
        "    dummy_actions_batch = jnp.array([0, 1])\n",
        "    dummy_rewards_batch = jnp.array([1.0, -1.0])\n",
        "    dummy_dones_batch = jnp.array([0.0, 1.0])\n",
        "\n",
        "    # 2. Calculate the expected loss using the solution\n",
        "    expected_loss = solution_a2c_loss_fn(\n",
        "        params, dummy_obs_batch, dummy_actions_batch, dummy_rewards_batch,\n",
        "        dummy_next_obs_batch, dummy_dones_batch\n",
        "    )\n",
        "\n",
        "    # 3. Calculate the loss using the student's function\n",
        "    # This assumes 'ac_network' and 'a2c_loss_fn' are defined in the student's scope\n",
        "    student_loss = a2c_loss_fn(\n",
        "        {'params': params}, dummy_obs_batch, dummy_actions_batch, dummy_rewards_batch,\n",
        "        dummy_next_obs_batch, dummy_dones_batch\n",
        "    )\n",
        "\n",
        "    # 4. Check for correctness\n",
        "    assert student_loss.shape == (), f\"Loss must be a scalar, but got shape {student_loss.shape}.\"\n",
        "    assert jnp.isclose(student_loss, expected_loss), f\"Your loss value is incorrect. Expected a value close to {expected_loss:.4f}, but got {student_loss:.4f}.\"\n",
        "\n",
        "    print(\"✅ Success! Your `a2c_loss_fn` implementation is correct!\")\n",
        "    print(f\"   - Calculated loss: {student_loss:.4f}\")\n",
        "\n",
        "except NameError as e:\n",
        "    if 'a2c_loss_fn' in str(e):\n",
        "        print(\"\\n❌ Oops! A `NameError` occurred.\")\n",
        "        print(\"   Error: `a2c_loss_fn` is not defined. Please make sure you have run the cell where you defined your loss function.\")\n",
        "    else:\n",
        "        print(f\"\\n❌ Oops! An unexpected NameError occurred: {e}\")\n",
        "except Exception as e:\n",
        "    print(\"\\n❌ Oops! Your function ran into an error. Read the message below.\")\n",
        "    print(f\"   Error: {e}\")\n",
        "    print(\"\\n   Common mistakes to check:\")\n",
        "    if \"ScopeCollectionNotFound\" in str(e) or \"pass a dictionary\" in str(e):\n",
        "        print(\"   - CRITICAL: When calling `ac_network.apply`, did you pass the parameters as `{'params': params}`? This is a very common Flax error.\")\n",
        "    print(\"   - Are all your calculations using JAX numpy (`jnp`)?\")\n",
        "    print(\"   - Did you use `jax.lax.stop_gradient` correctly on the advantage calculation?\")\n",
        "\n"
      ]
    },
    {
      "cell_type": "code",
      "execution_count": null,
      "metadata": {
        "id": "qTuz4kPK8hKx"
      },
      "outputs": [],
      "source": [
        "#@title Answer to Exercise (run me)\n",
        "\n",
        "def a2c_loss_fn(params, observations, actions, rewards, next_observations, dones):\n",
        "    \"\"\"Calculates the combined actor-critic loss.\"\"\"\n",
        "\n",
        "    # Get network outputs for the collected experience (already complete)\n",
        "    # We use vmap to efficiently process the entire batch of transitions\n",
        "    logits, values = jax.vmap(ac_network.apply, in_axes=(None, 0))(params, observations)\n",
        "    _, next_values = jax.vmap(ac_network.apply, in_axes=(None, 0))(params, next_observations)\n",
        "\n",
        "    # If the episode terminated, the value of the next state is 0 (already complete)\n",
        "    next_values = next_values * (1 - dones)\n",
        "\n",
        "    # --- SOLUTION ---\n",
        "\n",
        "    # 1. Calculate the TD Target for the critic.\n",
        "    #    This is the immediate reward plus the discounted value of the *next* state.\n",
        "    target_values = rewards + gamma * next_values\n",
        "\n",
        "    # 2. Calculate the critic's loss.\n",
        "    #    This is the mean squared error between the `target_values` and the critic's actual output `values`.\n",
        "    #    A 0.5 factor is common practice.\n",
        "    critic_loss = 0.5 * jnp.mean((target_values - values) ** 2)\n",
        "\n",
        "    # 3. Calculate the advantage for the actor.\n",
        "    #    Use jax.lax.stop_gradient to treat the advantage calculation as a constant for the actor loss.\n",
        "    advantages = jax.lax.stop_gradient(target_values - values)\n",
        "\n",
        "    # --- End of solution ---\n",
        "\n",
        "\n",
        "    # Actor loss (policy gradient) (already complete)\n",
        "    log_probs = nn.log_softmax(logits)\n",
        "    action_log_probs = jax.vmap(lambda lp, a: lp[a])(log_probs, actions)\n",
        "    actor_loss = -jnp.mean(action_log_probs * advantages)\n",
        "\n",
        "    # Total loss is the sum of the actor and critic losses (already complete)\n",
        "    total_loss = actor_loss + critic_loss\n",
        "    return total_loss"
      ]
    },
    {
      "cell_type": "markdown",
      "metadata": {
        "id": "dfZwdaa78xfd"
      },
      "source": [
        "### **Training A2C**\n",
        "\n",
        "It's time to put everything together! This final section contains the main training loop where the agent interacts with the environment and actually learns.\n",
        "\n",
        "The code combines the ActorCriticNetwork and the a2c_loss_fn you worked on. The process for each episode follows a simple but powerful pattern:\n",
        "\n",
        "\n",
        "\n",
        "1.   **Collect a Batch of Experiences:**  The agent interacts with the environment and stores its recent (observation, action, reward, next_observation, done) transitions in a temporary buffer.\n",
        "2.   **Train the Network with Bootstrapping:** Once the temporary buffer fills up, the entire batch of fresh experiences is fed into our JIT-compiled train_step function to update the network.\n",
        "This works because of **bootstrapping**. The agent doesn't need to wait for the game to end to learn. Instead, it combines the **immediate reward** it just received with its own **educated guess** about the value of the next state. The optimizer uses this information to adjust the network's parameters, allowing the agent to improve its strategy on-the-go.\n",
        "3. **Reset the Buffer:** After the network is updated, the buffer is cleared. This is critical because it ensures the agent is always training on fresh data generated by its most recent policy.\n",
        "\n",
        "This \"act, collect, train\" cycle repeats for many episodes, allowing the agent to gradually improve its snake-playing policy by learning from its successes and failures."
      ]
    },
    {
      "cell_type": "code",
      "execution_count": null,
      "metadata": {
        "colab": {
          "base_uri": "https://localhost:8080/",
          "height": 454
        },
        "id": "C5vQkcTg8108",
        "outputId": "ce14935b-7e5e-4f10-eb60-8b56f0f3be24"
      },
      "outputs": [],
      "source": [
        "# 3. Training Setup\n",
        "learning_rate = 3e-4\n",
        "gamma = 0.99\n",
        "total_num_episodes = 20\n",
        "update_threshold = 64 # The number of transitions to collect before an update\n",
        "\n",
        "# Initialize the network and optimizer\n",
        "ac_network = ActorCriticNetwork()\n",
        "dummy_obs = jnp.ones(observation_shape)\n",
        "key, network_init_key = jax.random.split(key)\n",
        "params = ac_network.init(network_init_key, dummy_obs)\n",
        "\n",
        "optimizer = optax.adam(learning_rate)\n",
        "opt_state = optimizer.init(params)\n",
        "\n",
        "@jax.jit\n",
        "def train_step(params, opt_state, observations, actions, rewards, next_observations, dones):\n",
        "    \"\"\"Performs a single training update.\"\"\"\n",
        "\n",
        "    # Compute loss and gradients simultaneously, passing all required data to the loss function.\n",
        "    loss, grads = jax.value_and_grad(a2c_loss_fn)(\n",
        "        params,\n",
        "        observations,\n",
        "        actions,\n",
        "        rewards,\n",
        "        next_observations,\n",
        "        dones\n",
        "    )\n",
        "\n",
        "    # Update parameters\n",
        "    updates, new_opt_state = optimizer.update(grads, opt_state)\n",
        "    new_params = optax.apply_updates(params, updates)\n",
        "\n",
        "    return new_params, new_opt_state, loss\n",
        "\n",
        "obs_buffer, act_buffer, rew_buffer, next_obs_buffer, done_buffer = [], [], [], [], []\n",
        "\n",
        "# 4. Agent-Environment Interaction and Training Loop\n",
        "for episode in range(total_num_episodes):\n",
        "    obs, info = env.reset()\n",
        "    done = False\n",
        "    episode_return = 0\n",
        "\n",
        "    while not done:\n",
        "        grid_obs = obs['grid']\n",
        "        key, action_key = jax.random.split(key)\n",
        "\n",
        "        # Get action from the current policy\n",
        "        logits, _ = ac_network.apply(params, grid_obs)\n",
        "        masked_logits = mask_illegal_actions(logits, obs['action_mask'])\n",
        "        action = select_action(masked_logits, action_key)\n",
        "\n",
        "        # Step the environment\n",
        "        next_obs, reward, done, info = env.step(action.item())\n",
        "        grid_next_obs = next_obs['grid']\n",
        "\n",
        "        # Add the new, on-policy transition to the temporary buffer\n",
        "        obs_buffer.append(grid_obs)\n",
        "        act_buffer.append(action)\n",
        "        rew_buffer.append(reward)\n",
        "        next_obs_buffer.append(grid_next_obs)\n",
        "        done_buffer.append(done)\n",
        "\n",
        "        episode_return += reward\n",
        "        obs = next_obs\n",
        "\n",
        "        # Train and reset the buffer if the threshold is reached\n",
        "        if len(obs_buffer) == update_threshold:\n",
        "            # Prepare the batch of on-policy data\n",
        "            obs_b = jnp.array(obs_buffer)\n",
        "            act_b = jnp.array(act_buffer)\n",
        "            rew_b = jnp.array(rew_buffer)\n",
        "            next_obs_b = jnp.array(next_obs_buffer)\n",
        "            done_b = jnp.array(done_buffer)\n",
        "\n",
        "            # Perform a training step\n",
        "            params, opt_state, loss = train_step(params, opt_state, obs_b, act_b, rew_b, next_obs_b, done_b)\n",
        "\n",
        "            # Reset the buffer to ensure only fresh data is used for the next update\n",
        "            obs_buffer, act_buffer, rew_buffer, next_obs_buffer, done_buffer = [], [], [], [], []\n",
        "\n",
        "    if episode % 1 == 0:\n",
        "        print(f\"Episode {episode} | Return: {episode_return:<4}\")"
      ]
    },
    {
      "cell_type": "code",
      "execution_count": null,
      "metadata": {
        "cellView": "form",
        "colab": {
          "base_uri": "https://localhost:8080/",
          "height": 1000
        },
        "id": "nQUnCy2SNkX_",
        "outputId": "3b319399-883f-41a1-90d1-60b9aee9cd13"
      },
      "outputs": [],
      "source": [
        "# @title Render the trained agent\n",
        "frames = []\n",
        "obs, _ = env.reset()\n",
        "frames.append(env._state)\n",
        "\n",
        "done = False\n",
        "\n",
        "while not done:\n",
        "  grid_obs = obs['grid']\n",
        "  logits, _ = ac_network.apply(params, grid_obs)\n",
        "  masked_logits = mask_illegal_actions(logits, obs['action_mask'])\n",
        "  key, action_key = jax.random.split(key)\n",
        "  action = select_action(masked_logits, action_key)\n",
        "  obs, reward, done, info = env.step(action)\n",
        "  frames.append(env._state)\n",
        "\n",
        "env._env.animate(frames)"
      ]
    },
    {
      "cell_type": "markdown",
      "metadata": {
        "id": "4IzOZqqM9tXQ"
      },
      "source": [
        "## 5. Generalised Advantage Estimation (GAE)"
      ]
    },
    {
      "cell_type": "markdown",
      "metadata": {
        "id": "FmbW_siHnZq4"
      },
      "source": [
        "The problem with bootstrapping is that it results in a low variance, but high bias estimate (it puts us in the bottom left quadrant of the bias-variance trade-off image). This can lead to suboptimal policies. However, using Monte-Carlo rollouts (as we did in reinforce) has a high variance and can also lead to sub-optimal results (top right of the bias-variance trade-off image). The solution here is to find a balance between bootstrapping and Monte-Carlo rollouts and luckily an algorithm for this already exists: Generalised Advantages Estimation (GAE)!\n",
        "\n",
        "**GAE** uses a single parameter $\\lambda$ to control the bias-variance trade-off, where:\n",
        "* $\\lambda=1$ is equivalent to Monte-Carlo returns\n",
        "* $\\lambda=0$ is equivalent to bootstrapping\n",
        "* $\\lambda=0.95$ is a good value in general\n",
        "\n",
        "We will use GAE in our next practical where we will implement Proximal Policy Optimisation (PPO)."
      ]
    },
    {
      "cell_type": "markdown",
      "metadata": {
        "id": "t7ra218VoYej"
      },
      "source": [
        "## The Math and Code Behind GAE (optional)"
      ]
    },
    {
      "cell_type": "markdown",
      "metadata": {
        "id": "1ZkCNFrnf0Vl"
      },
      "source": [
        "### **n-step TD Error**\n",
        "Remember that at the end of the bootstrapping section we discussed that the TD Error isn't perfect. It reduces the variance of the policy gradient estimate, but it introduces a bias because the learned value function is not the true value function, but rather an approximation.\n",
        "\n",
        "As a reminder the **1-step TD Error** on step $t$ is defined as:\n",
        "$$ \\hat A_t = r_t + \\gamma V(s_{t+1}) - V(s_t) $$\n",
        "\n",
        "This is called the **1-step**  TD Error because it only considers a single real reward before bootstrapping. We can also define an n-step advantage, $\\hat A^{(n)}_t$, which incorporates $n$ real rewards before using the value function:\n",
        "\n",
        "$$ \\hat A^{(1)}_t = r_t + \\gamma V(s_{t+1}) - V(s_t) $$\n",
        "$$ \\hat A^{(2)}_t = r_t + \\gamma r_{t+1} + \\gamma^2 V(s_{t+2}) - V(s_t) $$\n",
        "$$ \\hat A^{(3)}_t = r_t + \\gamma r_{t+1} + \\gamma^2 r_{t+2} + \\gamma^3 V(s_{t+3}) - V(s_t) $$\n",
        "\n",
        "$$ \\hat A^{(n)}_t = r_t + \\gamma r_{t+1} + \\gamma^2 r_{t+2} + \\ldots + \\gamma^n V(s_{t+n}) - V(s_t)$$\n",
        "\n",
        "As $n$ increases, the number of real rewards in the estimate grows, while the discounted value function term $\\gamma^nV(s_{t+n​})$ has less impact. This means that as $n \\rightarrow \\infty$, the bias of our advantage estimate decreases, but the variance increases because we are summing more random rewards.\n",
        "\n",
        "### $\\mathbf{GAE(\\gamma, \\lambda)}$\n",
        "The Generalized Advantage Estimator $GAE(\\gamma, \\lambda)$ provides an elegant way to compromise between these different n-step estimates. It's defined as the exponentially-weighted average of all of them:\n",
        "\n",
        "$$ \\hat A_t^{GAE} = (1 - \\lambda)(\\hat A^{(1)}_t + \\lambda \\hat A^{(2)}_t + \\lambda^2 \\hat A^{(3)}_t + \\ldots) $$\n",
        "\n",
        "To better understand this we can first assign our 1-step TD error to $\\delta^V_t$ instead of $\\hat A_t$ for clarity:\n",
        "\n",
        "$$ \\delta^V_t = r_t + \\gamma V(s_{t+1}) - V(s_t) $$\n",
        "\n",
        "Then we can rewrite $GAE(\\gamma, \\lambda)$ in term of $\\delta^V_t$:\n",
        "\n",
        "$$ \\hat A_t^{GAE} = \\sum_{i=0}^{\\infty} (\\gamma \\lambda)^l \\delta^V_{t+i} = \\delta^V_t + \\gamma \\lambda \\delta^V_{t+1} + \\gamma^2 \\lambda^2 \\delta^V_{t+2} + \\ldots $$\n",
        "\n",
        "Now we can more easily understand GAE. We can see that the advantage is the *surprise* (TD error) we see at the current step, plus a discounted measure of all future surprises. If our value function is perfect, all TD errors are zero, and the advantage is zero. If an action leads to a positive surprise ($\\delta^V_t > 0$), it contributes positively to the advantage. This formulation shows how GAE elegantly propagates credit from future outcomes back to the current action.\n",
        "\n",
        "### **The Role of Lambda (λ)**\n",
        "\n",
        "The hyperparameter λ (lambda), which is between 0 and 1, is the key to controlling the bias-variance trade-off. It acts as a mixing knob:\n",
        "\n",
        "**If λ=0:** The formula collapses to just $\\hat A_t^{GAE}​=A_t^{(1)}$​. We get the 1-step TD Error, which has high bias (due to its heavy reliance on V(st+1​)) but low variance (as it only includes one random reward, rt​). This is the advantage estimate used in A2C.\n",
        "\n",
        "**If λ=1:** The formula becomes an infinite sum of n-step returns. This effectively cancels out all the intermediate value function estimates, resulting in the Monte Carlo return. This has low bias but high variance and is used in REINFORCE.\n",
        "\n",
        "**If $\\mathbf{0 < \\lambda < 1}$**: We get a blend of all n-step advantages. The weights for longer-term advantages decay exponentially, controlled by λ. This allows us to find a sweet spot, reducing variance without introducing too much bias. A common default value that works well in practice is λ=0.95."
      ]
    },
    {
      "cell_type": "markdown",
      "metadata": {
        "id": "O2KAaCwyvu2r"
      },
      "source": [
        "### **How to code GAE**\n",
        "\n",
        "Calculating an infinite sum is impossible. However, we can compute GAE efficiently using the recursive relationship from the formula above. Notice that:\n",
        "\n",
        "$$ \\hat A_t^{GAE} = \\sum_{i=0}^{\\infty} (\\gamma \\lambda)^l \\delta^V_{t+i} = \\delta^V_t + \\gamma \\lambda \\delta^V_{t+1} + \\gamma^2 \\lambda^2 \\delta^V_{t+2} + \\ldots $$\n",
        "\n",
        "This gives us a practical algorithm. For a trajectory of length $T$:\n",
        "\n",
        "\n",
        "1.   Collect a trajectory: Run the policy to get a sequence of states, rewards, and value estimates: $(s_0, r_0, v_0), (s_1, r_1, v_1), \\ldots, (s_{T-1}, v_{T-1}, r_{T-1})$. You also need one final value estimate for the state after the last action, $V(s_T)$.\n",
        "\n",
        "2.   Calculate all TD errors: For each step $t$ from $0$ to $T - 1$, compute $\\delta^V_t = r_t + \\gamma V(s_t+1) - V(s_t)$. If a state $s_t$ is terminal, then $V(s_{t+1})$ is treated as $0$.\n",
        "3.   Iterate backwards: To calculate the advantages, start from the end of the trajectory and work backwards. The advantage at the last step, $A_{T-1}$, is just its TD error: $\\delta^V_{T-1}$ (since $A_T=0$). And the advantage of all other steps is it's TD Error plus the discounted (by $\\gamma$ and $\\lambda$) error of the next step:\n",
        "\n",
        "$$ \\delta^V_t + \\gamma \\lambda \\hat A_{t+1} $$\n",
        "\n",
        "We iterate backwards because the advantage at step $t$ depends on the advantage at step $t+1$. This simple loop efficiently calculates the GAE for every step in the trajectory, giving us a stable, low-variance target for updating our policy."
      ]
    },
    {
      "cell_type": "markdown",
      "metadata": {
        "id": "VNaKZPr63kar"
      },
      "source": [
        "### ✏️ **Exercise write the GAE function:**"
      ]
    },
    {
      "cell_type": "code",
      "execution_count": null,
      "metadata": {
        "id": "vL0QZdbj3pB9"
      },
      "outputs": [],
      "source": [
        "import numpy as np\n",
        "\n",
        "def calculate_gae(\n",
        "  rewards: np.ndarray,  # shape: (T,)\n",
        "  values: np.ndarray,   # shape: (T+1,) this contains the final value V_{t+1}\n",
        "  dones: np.ndarray,    # shape: (T,)\n",
        "  gamma: float = 0.99,  # shape: (1,)\n",
        "  gae_lambda: float = 0.95, # shape: (1,)\n",
        "):\n",
        "    \"\"\"\n",
        "    Calculates the Generalized Advantage Estimation (GAE) for a trajectory.\n",
        "\n",
        "    Returns:\n",
        "        np.ndarray: The calculated advantages for each step in the trajectory.\n",
        "    \"\"\"\n",
        "    num_steps = len(rewards)\n",
        "    advantages = np.zeros_like(rewards, dtype=np.float32)\n",
        "    next_advantage = 0.0\n",
        "\n",
        "    # Iterate backwards from the last step to the first\n",
        "    for t in reversed(range(num_steps)):\n",
        "        # The mask is 0 if the state is terminal (done=True), and 1 otherwise.\n",
        "        # This handles resetting the advantage calculation at episode boundaries.\n",
        "        mask = ...\n",
        "\n",
        "        # Calculate the TD error (delta) for the current step\n",
        "        # delta_t = r_t + gamma * V(s_{t+1}) - V(s_t)\n",
        "        # V(s_{t+1}) is masked to 0 if the episode ended.\n",
        "        delta = ...\n",
        "\n",
        "        # Calculate the advantage using the recursive GAE formula\n",
        "        # A_t = delta_t + gamma * lambda * A_{t+1}\n",
        "        # The advantage from the next step (next_advantage) is also masked.\n",
        "        advantages[t] = ...\n",
        "\n",
        "        # advantage is now next_advantage for our next go around the loop\n",
        "        next_advantage = advantages[t]\n",
        "\n",
        "    return advantages"
      ]
    },
    {
      "cell_type": "code",
      "execution_count": null,
      "metadata": {
        "cellView": "form",
        "id": "ha_35DZj05eF"
      },
      "outputs": [],
      "source": [
        "# @title Check Exercise (Run Me!)\n",
        "\n",
        "rewards = np.array([1, 2, 3, 4, 5], dtype=float)\n",
        "dones = np.array([False, False, True, False, False], dtype=bool)\n",
        "values = np.array([13, 12, 11, 8, 3, 1], dtype=float)\n",
        "\n",
        "advantages = calculate_gae(rewards, values, dones)\n",
        "\n",
        "expected = np.array([-6.359277, -6.634, -8.0, 1.782095, 2.99])\n",
        "if not np.allclose(advantages, expected):\n",
        "  print(f\"Your GAE function doesn't seem to be quite right, please try again.\\nYour advantages: {advantages}\\nExpected:        {expected}\")\n",
        "else:\n",
        "  print(\"Well done, your advantage function is correct!\")"
      ]
    },
    {
      "cell_type": "code",
      "execution_count": null,
      "metadata": {
        "cellView": "form",
        "id": "mArKGBrWvuaa"
      },
      "outputs": [],
      "source": [
        "# @title Solution\n",
        "import numpy as np\n",
        "\n",
        "def calculate_gae(\n",
        "  rewards: np.ndarray,  # shape: (T,)\n",
        "  values: np.ndarray,   # shape: (T+1,) this contains the final value V_{t+1}\n",
        "  dones: np.ndarray,    # shape: (T,)\n",
        "  gamma: float = 0.99,  # shape: (1,)\n",
        "  gae_lambda: float = 0.95, # shape: (1,)\n",
        "):\n",
        "    \"\"\"\n",
        "    Calculates the Generalized Advantage Estimation (GAE) for a trajectory.\n",
        "\n",
        "    Returns:\n",
        "        np.ndarray: The calculated advantages for each step in the trajectory.\n",
        "    \"\"\"\n",
        "    num_steps = len(rewards)\n",
        "    advantages = np.zeros_like(rewards, dtype=np.float32)\n",
        "    next_advantage = 0.0\n",
        "\n",
        "    # Iterate backwards from the last step to the first\n",
        "    for t in reversed(range(num_steps)):\n",
        "        # The mask is 0 if the state is terminal (done=True), and 1 otherwise.\n",
        "        # This handles resetting the advantage calculation at episode boundaries.\n",
        "        mask = 1.0 - dones[t]\n",
        "\n",
        "        # Calculate the TD error (delta) for the current step\n",
        "        # delta_t = r_t + gamma * V(s_{t+1}) - V(s_t)\n",
        "        # V(s_{t+1}) is masked to 0 if the episode ended.\n",
        "        delta = rewards[t] + gamma * values[t + 1] * mask - values[t]\n",
        "\n",
        "        # Calculate the advantage using the recursive GAE formula\n",
        "        # A_t = delta_t + gamma * lambda * A_{t+1}\n",
        "        # The advantage from the next step (next_advantage) is also masked.\n",
        "        advantages[t] = delta + gamma * gae_lambda * next_advantage * mask\n",
        "        next_advantage = advantages[t]\n",
        "\n",
        "    return advantages"
      ]
    },
    {
      "cell_type": "markdown",
      "metadata": {
        "id": "3LzNPCeXLQ76"
      },
      "source": [
        "## Conclusion\n",
        "\n",
        "In this practical, we revisited the REINFORCE algorithm and delved into its limitations, specifically its high variance. We explored how subtracting a baseline can reduce this variance and introduced the concept of **advantage estimation**. Initially, we used a simple Monte Carlo average of returns as a baseline, observing how it can improve gradient stability.\n",
        "\n",
        "We then moved on to the core of Actor-Critic methods by implementing a separate **Critic network** to learn a state-value function $V(s)$, which serves as a more sophisticated, state-dependent baseline. This led us to understand the concept of **bootstrapping**, where we use the learned value function to create a **Temporal Difference (TD) target** ($r_t + \\gamma V(s_{t+1}))$ and the **TD error** as a low-variance estimate of the advantage ($\\hat A_t = r_t + \\gamma V(s_{t+1}) - V(s_t)$).\n",
        "\n",
        "Finally, we implemented a basic **Advantage Actor-Critic (A2C)** agent that utilizes this bootstrapped advantage to update both the actor (policy) and the critic (value function) simultaneously. This approach allows for more frequent updates and can lead to more stable training compared to vanilla REINFORCE. We also touched upon **Generalised Advantage Estimation (GAE)** as a way to balance the bias-variance trade-off introduced by bootstrapping, a concept we will explore further in the next practical with Proximal Policy Optimization (PPO)."
      ]
    },
    {
      "cell_type": "markdown",
      "metadata": {
        "id": "nkgow4U9LdCm"
      },
      "source": [
        "## Resources for further learning\n",
        "If this practical piqued your interest and you would like to learn more, the following references will help you on your way!\n",
        "\n",
        "- The most infuential textbook on RL - [Reinforcement Learning: An Introduction](http://incompleteideas.net/book/the-book-2nd.html).\n",
        "- [David Silver's RL course](https://www.youtube.com/playlist?list=PLzuuYNsE1EZAXYR4FJ75jcJseBmo4KQ9-).\n",
        "- For more on policy gradient methods, you can view:\n",
        "  - The 2022 [Deep Learning Indaba RL prac](https://github.com/deep-learning-indaba/indaba-pracs-2022/blob/main/practicals/introduction_to_reinforcement_learning.ipynb)\n",
        "  - [Spinning Up in RL - Intro to Policy Optimization](https://spinningup.openai.com/en/latest/spinningup/rl_intro3.html) or\n",
        "  - [Lilian Weng's Blog - Policy Gradient Algorithms](https://lilianweng.github.io/posts/2018-04-08-policy-gradient/)\n",
        "- [Hugging Face's Deep RL course](https://huggingface.co/learn/deep-rl-course/en/unit0/introduction)\n",
        "- [More practicals from the Deep Learning Indaba](https://github.com/deep-learning-indaba)\n",
        "- [CleanRL's clean implementations of popular Deep RL algorithms](https://github.com/vwxyzjn/cleanrl)"
      ]
    },
    {
      "cell_type": "markdown",
      "metadata": {
        "id": "4nGAMLjVLj1K"
      },
      "source": [
        "## Feedback\n",
        "\n",
        "Please fill out this form as it is a very important part of the practicals. Your feedback will help us **improve the practicals and will also count towards the prize at the end of the sessions!**"
      ]
    },
    {
      "cell_type": "code",
      "execution_count": null,
      "metadata": {
        "cellView": "form",
        "id": "vbc2h8fLLlQl"
      },
      "outputs": [],
      "source": [
        "# @title Generate Feedback Form. (Run Cell)\n",
        "from IPython.display import HTML\n",
        "\n",
        "HTML(\n",
        "    \"\"\"\n",
        "<iframe\n",
        "\tsrc=\"https://forms.gle/Ehidzyxs8pYoT1eZ9\",\n",
        "  width=\"80%\"\n",
        "\theight=\"1200px\" >\n",
        "\tLoading...\n",
        "</iframe>\n",
        "\"\"\"\n",
        ")"
      ]
    },
    {
      "cell_type": "markdown",
      "metadata": {
        "id": "cPL30zUZLoVZ"
      },
      "source": [
        "![indaba-logo.png](data:image/png;base64,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)"
      ]
    }
  ],
  "metadata": {
    "colab": {
      "collapsed_sections": [
        "OyBtD831IeLE",
        "64tagA7CIvOD",
        "-krUprabO1o1",
        "VNaKZPr63kar"
      ],
      "provenance": [],
      "toc_visible": true
    },
    "kernelspec": {
      "display_name": "tinkerer_py310",
      "language": "python",
      "name": "python3"
    },
    "language_info": {
      "name": "python",
      "version": "3.10.18"
    },
    "widgets": {
      "application/vnd.jupyter.widget-state+json": {
        "0189d62843e94f589ee7771436283106": {
          "model_module": "@jupyter-widgets/controls",
          "model_module_version": "1.5.0",
          "model_name": "FloatProgressModel",
          "state": {
            "_dom_classes": [],
            "_model_module": "@jupyter-widgets/controls",
            "_model_module_version": "1.5.0",
            "_model_name": "FloatProgressModel",
            "_view_count": null,
            "_view_module": "@jupyter-widgets/controls",
            "_view_module_version": "1.5.0",
            "_view_name": "ProgressView",
            "bar_style": "success",
            "description": "",
            "description_tooltip": null,
            "layout": "IPY_MODEL_ffa30c077e174b90b970314147e2c3bd",
            "max": 20,
            "min": 0,
            "orientation": "horizontal",
            "style": "IPY_MODEL_2af4daba200748fb9e3c16e969559ff7",
            "value": 20
          }
        },
        "0572f1d282194f7ea01a66852870bada": {
          "model_module": "@jupyter-widgets/controls",
          "model_module_version": "1.5.0",
          "model_name": "HTMLModel",
          "state": {
            "_dom_classes": [],
            "_model_module": "@jupyter-widgets/controls",
            "_model_module_version": "1.5.0",
            "_model_name": "HTMLModel",
            "_view_count": null,
            "_view_module": "@jupyter-widgets/controls",
            "_view_module_version": "1.5.0",
            "_view_name": "HTMLView",
            "description": "",
            "description_tooltip": null,
            "layout": "IPY_MODEL_5bc0d7c1a1634e3fb262a9656f979eb7",
            "placeholder": "​",
            "style": "IPY_MODEL_c46741cd06d0427087ccbee842596984",
            "value": "100%"
          }
        },
        "09f12385be4347b59a81e3b00d6dac9e": {
          "model_module": "@jupyter-widgets/controls",
          "model_module_version": "1.5.0",
          "model_name": "DescriptionStyleModel",
          "state": {
            "_model_module": "@jupyter-widgets/controls",
            "_model_module_version": "1.5.0",
            "_model_name": "DescriptionStyleModel",
            "_view_count": null,
            "_view_module": "@jupyter-widgets/base",
            "_view_module_version": "1.2.0",
            "_view_name": "StyleView",
            "description_width": ""
          }
        },
        "22023f7b087b4e5f91136a6f217ac271": {
          "model_module": "@jupyter-widgets/controls",
          "model_module_version": "1.5.0",
          "model_name": "DescriptionStyleModel",
          "state": {
            "_model_module": "@jupyter-widgets/controls",
            "_model_module_version": "1.5.0",
            "_model_name": "DescriptionStyleModel",
            "_view_count": null,
            "_view_module": "@jupyter-widgets/base",
            "_view_module_version": "1.2.0",
            "_view_name": "StyleView",
            "description_width": ""
          }
        },
        "2af4daba200748fb9e3c16e969559ff7": {
          "model_module": "@jupyter-widgets/controls",
          "model_module_version": "1.5.0",
          "model_name": "ProgressStyleModel",
          "state": {
            "_model_module": "@jupyter-widgets/controls",
            "_model_module_version": "1.5.0",
            "_model_name": "ProgressStyleModel",
            "_view_count": null,
            "_view_module": "@jupyter-widgets/base",
            "_view_module_version": "1.2.0",
            "_view_name": "StyleView",
            "bar_color": null,
            "description_width": ""
          }
        },
        "40ca90ad92d34dd19d23c3a9b1911192": {
          "model_module": "@jupyter-widgets/controls",
          "model_module_version": "1.5.0",
          "model_name": "FloatProgressModel",
          "state": {
            "_dom_classes": [],
            "_model_module": "@jupyter-widgets/controls",
            "_model_module_version": "1.5.0",
            "_model_name": "FloatProgressModel",
            "_view_count": null,
            "_view_module": "@jupyter-widgets/controls",
            "_view_module_version": "1.5.0",
            "_view_name": "ProgressView",
            "bar_style": "success",
            "description": "",
            "description_tooltip": null,
            "layout": "IPY_MODEL_bf27fc19349542c48cf4dcfe7aa6267c",
            "max": 20,
            "min": 0,
            "orientation": "horizontal",
            "style": "IPY_MODEL_9b93fb55f6ec4ba3a64374227694a4c0",
            "value": 20
          }
        },
        "43599ef363b54251bc7d077216bef0ce": {
          "model_module": "@jupyter-widgets/controls",
          "model_module_version": "1.5.0",
          "model_name": "FloatProgressModel",
          "state": {
            "_dom_classes": [],
            "_model_module": "@jupyter-widgets/controls",
            "_model_module_version": "1.5.0",
            "_model_name": "FloatProgressModel",
            "_view_count": null,
            "_view_module": "@jupyter-widgets/controls",
            "_view_module_version": "1.5.0",
            "_view_name": "ProgressView",
            "bar_style": "success",
            "description": "",
            "description_tooltip": null,
            "layout": "IPY_MODEL_97f7564ce7004c828207b7c47cbf0fa0",
            "max": 20,
            "min": 0,
            "orientation": "horizontal",
            "style": "IPY_MODEL_8352e7d98e9843f480dd47fe313f93cf",
            "value": 20
          }
        },
        "4e5e244638f6413a8458ad4659eb3bc7": {
          "model_module": "@jupyter-widgets/base",
          "model_module_version": "1.2.0",
          "model_name": "LayoutModel",
          "state": {
            "_model_module": "@jupyter-widgets/base",
            "_model_module_version": "1.2.0",
            "_model_name": "LayoutModel",
            "_view_count": null,
            "_view_module": "@jupyter-widgets/base",
            "_view_module_version": "1.2.0",
            "_view_name": "LayoutView",
            "align_content": null,
            "align_items": null,
            "align_self": null,
            "border": null,
            "bottom": null,
            "display": null,
            "flex": null,
            "flex_flow": null,
            "grid_area": null,
            "grid_auto_columns": null,
            "grid_auto_flow": null,
            "grid_auto_rows": null,
            "grid_column": null,
            "grid_gap": null,
            "grid_row": null,
            "grid_template_areas": null,
            "grid_template_columns": null,
            "grid_template_rows": null,
            "height": null,
            "justify_content": null,
            "justify_items": null,
            "left": null,
            "margin": null,
            "max_height": null,
            "max_width": null,
            "min_height": null,
            "min_width": null,
            "object_fit": null,
            "object_position": null,
            "order": null,
            "overflow": null,
            "overflow_x": null,
            "overflow_y": null,
            "padding": null,
            "right": null,
            "top": null,
            "visibility": null,
            "width": null
          }
        },
        "513645c6b5134716aef77f463fc4331d": {
          "model_module": "@jupyter-widgets/controls",
          "model_module_version": "1.5.0",
          "model_name": "DescriptionStyleModel",
          "state": {
            "_model_module": "@jupyter-widgets/controls",
            "_model_module_version": "1.5.0",
            "_model_name": "DescriptionStyleModel",
            "_view_count": null,
            "_view_module": "@jupyter-widgets/base",
            "_view_module_version": "1.2.0",
            "_view_name": "StyleView",
            "description_width": ""
          }
        },
        "5bc0d7c1a1634e3fb262a9656f979eb7": {
          "model_module": "@jupyter-widgets/base",
          "model_module_version": "1.2.0",
          "model_name": "LayoutModel",
          "state": {
            "_model_module": "@jupyter-widgets/base",
            "_model_module_version": "1.2.0",
            "_model_name": "LayoutModel",
            "_view_count": null,
            "_view_module": "@jupyter-widgets/base",
            "_view_module_version": "1.2.0",
            "_view_name": "LayoutView",
            "align_content": null,
            "align_items": null,
            "align_self": null,
            "border": null,
            "bottom": null,
            "display": null,
            "flex": null,
            "flex_flow": null,
            "grid_area": null,
            "grid_auto_columns": null,
            "grid_auto_flow": null,
            "grid_auto_rows": null,
            "grid_column": null,
            "grid_gap": null,
            "grid_row": null,
            "grid_template_areas": null,
            "grid_template_columns": null,
            "grid_template_rows": null,
            "height": null,
            "justify_content": null,
            "justify_items": null,
            "left": null,
            "margin": null,
            "max_height": null,
            "max_width": null,
            "min_height": null,
            "min_width": null,
            "object_fit": null,
            "object_position": null,
            "order": null,
            "overflow": null,
            "overflow_x": null,
            "overflow_y": null,
            "padding": null,
            "right": null,
            "top": null,
            "visibility": null,
            "width": null
          }
        },
        "6dd11d8755af42ec88d6675fa53ce124": {
          "model_module": "@jupyter-widgets/controls",
          "model_module_version": "1.5.0",
          "model_name": "HBoxModel",
          "state": {
            "_dom_classes": [],
            "_model_module": "@jupyter-widgets/controls",
            "_model_module_version": "1.5.0",
            "_model_name": "HBoxModel",
            "_view_count": null,
            "_view_module": "@jupyter-widgets/controls",
            "_view_module_version": "1.5.0",
            "_view_name": "HBoxView",
            "box_style": "",
            "children": [
              "IPY_MODEL_0572f1d282194f7ea01a66852870bada",
              "IPY_MODEL_43599ef363b54251bc7d077216bef0ce",
              "IPY_MODEL_a1993e31d18e4d6797cc63abab29d7b2"
            ],
            "layout": "IPY_MODEL_cf848cb8c78141c79d85044576d7d99e"
          }
        },
        "8352e7d98e9843f480dd47fe313f93cf": {
          "model_module": "@jupyter-widgets/controls",
          "model_module_version": "1.5.0",
          "model_name": "ProgressStyleModel",
          "state": {
            "_model_module": "@jupyter-widgets/controls",
            "_model_module_version": "1.5.0",
            "_model_name": "ProgressStyleModel",
            "_view_count": null,
            "_view_module": "@jupyter-widgets/base",
            "_view_module_version": "1.2.0",
            "_view_name": "StyleView",
            "bar_color": null,
            "description_width": ""
          }
        },
        "880581e2b4d047bd9b82dd40d72a80d7": {
          "model_module": "@jupyter-widgets/controls",
          "model_module_version": "1.5.0",
          "model_name": "HTMLModel",
          "state": {
            "_dom_classes": [],
            "_model_module": "@jupyter-widgets/controls",
            "_model_module_version": "1.5.0",
            "_model_name": "HTMLModel",
            "_view_count": null,
            "_view_module": "@jupyter-widgets/controls",
            "_view_module_version": "1.5.0",
            "_view_name": "HTMLView",
            "description": "",
            "description_tooltip": null,
            "layout": "IPY_MODEL_e549e41fd76f4c7ab4997f4bb16cedc4",
            "placeholder": "​",
            "style": "IPY_MODEL_b697b70cdb174ee783fe1132c54a8455",
            "value": " 20/20 [01:01&lt;00:00,  2.66s/it]"
          }
        },
        "97f7564ce7004c828207b7c47cbf0fa0": {
          "model_module": "@jupyter-widgets/base",
          "model_module_version": "1.2.0",
          "model_name": "LayoutModel",
          "state": {
            "_model_module": "@jupyter-widgets/base",
            "_model_module_version": "1.2.0",
            "_model_name": "LayoutModel",
            "_view_count": null,
            "_view_module": "@jupyter-widgets/base",
            "_view_module_version": "1.2.0",
            "_view_name": "LayoutView",
            "align_content": null,
            "align_items": null,
            "align_self": null,
            "border": null,
            "bottom": null,
            "display": null,
            "flex": null,
            "flex_flow": null,
            "grid_area": null,
            "grid_auto_columns": null,
            "grid_auto_flow": null,
            "grid_auto_rows": null,
            "grid_column": null,
            "grid_gap": null,
            "grid_row": null,
            "grid_template_areas": null,
            "grid_template_columns": null,
            "grid_template_rows": null,
            "height": null,
            "justify_content": null,
            "justify_items": null,
            "left": null,
            "margin": null,
            "max_height": null,
            "max_width": null,
            "min_height": null,
            "min_width": null,
            "object_fit": null,
            "object_position": null,
            "order": null,
            "overflow": null,
            "overflow_x": null,
            "overflow_y": null,
            "padding": null,
            "right": null,
            "top": null,
            "visibility": null,
            "width": null
          }
        },
        "9b93fb55f6ec4ba3a64374227694a4c0": {
          "model_module": "@jupyter-widgets/controls",
          "model_module_version": "1.5.0",
          "model_name": "ProgressStyleModel",
          "state": {
            "_model_module": "@jupyter-widgets/controls",
            "_model_module_version": "1.5.0",
            "_model_name": "ProgressStyleModel",
            "_view_count": null,
            "_view_module": "@jupyter-widgets/base",
            "_view_module_version": "1.2.0",
            "_view_name": "StyleView",
            "bar_color": null,
            "description_width": ""
          }
        },
        "a1993e31d18e4d6797cc63abab29d7b2": {
          "model_module": "@jupyter-widgets/controls",
          "model_module_version": "1.5.0",
          "model_name": "HTMLModel",
          "state": {
            "_dom_classes": [],
            "_model_module": "@jupyter-widgets/controls",
            "_model_module_version": "1.5.0",
            "_model_name": "HTMLModel",
            "_view_count": null,
            "_view_module": "@jupyter-widgets/controls",
            "_view_module_version": "1.5.0",
            "_view_name": "HTMLView",
            "description": "",
            "description_tooltip": null,
            "layout": "IPY_MODEL_b1f8aed627834b82a851362396179fb4",
            "placeholder": "​",
            "style": "IPY_MODEL_22023f7b087b4e5f91136a6f217ac271",
            "value": " 20/20 [00:25&lt;00:00,  1.41s/it]"
          }
        },
        "a6545013f841474496a5c9d9c95608df": {
          "model_module": "@jupyter-widgets/base",
          "model_module_version": "1.2.0",
          "model_name": "LayoutModel",
          "state": {
            "_model_module": "@jupyter-widgets/base",
            "_model_module_version": "1.2.0",
            "_model_name": "LayoutModel",
            "_view_count": null,
            "_view_module": "@jupyter-widgets/base",
            "_view_module_version": "1.2.0",
            "_view_name": "LayoutView",
            "align_content": null,
            "align_items": null,
            "align_self": null,
            "border": null,
            "bottom": null,
            "display": null,
            "flex": null,
            "flex_flow": null,
            "grid_area": null,
            "grid_auto_columns": null,
            "grid_auto_flow": null,
            "grid_auto_rows": null,
            "grid_column": null,
            "grid_gap": null,
            "grid_row": null,
            "grid_template_areas": null,
            "grid_template_columns": null,
            "grid_template_rows": null,
            "height": null,
            "justify_content": null,
            "justify_items": null,
            "left": null,
            "margin": null,
            "max_height": null,
            "max_width": null,
            "min_height": null,
            "min_width": null,
            "object_fit": null,
            "object_position": null,
            "order": null,
            "overflow": null,
            "overflow_x": null,
            "overflow_y": null,
            "padding": null,
            "right": null,
            "top": null,
            "visibility": null,
            "width": null
          }
        },
        "a6f59742b6794c7cb301dd916cc1f915": {
          "model_module": "@jupyter-widgets/controls",
          "model_module_version": "1.5.0",
          "model_name": "HTMLModel",
          "state": {
            "_dom_classes": [],
            "_model_module": "@jupyter-widgets/controls",
            "_model_module_version": "1.5.0",
            "_model_name": "HTMLModel",
            "_view_count": null,
            "_view_module": "@jupyter-widgets/controls",
            "_view_module_version": "1.5.0",
            "_view_name": "HTMLView",
            "description": "",
            "description_tooltip": null,
            "layout": "IPY_MODEL_eccc6732c67b4952b3ee6280bd0d9328",
            "placeholder": "​",
            "style": "IPY_MODEL_09f12385be4347b59a81e3b00d6dac9e",
            "value": " 20/20 [00:26&lt;00:00,  1.39s/it]"
          }
        },
        "b1f8aed627834b82a851362396179fb4": {
          "model_module": "@jupyter-widgets/base",
          "model_module_version": "1.2.0",
          "model_name": "LayoutModel",
          "state": {
            "_model_module": "@jupyter-widgets/base",
            "_model_module_version": "1.2.0",
            "_model_name": "LayoutModel",
            "_view_count": null,
            "_view_module": "@jupyter-widgets/base",
            "_view_module_version": "1.2.0",
            "_view_name": "LayoutView",
            "align_content": null,
            "align_items": null,
            "align_self": null,
            "border": null,
            "bottom": null,
            "display": null,
            "flex": null,
            "flex_flow": null,
            "grid_area": null,
            "grid_auto_columns": null,
            "grid_auto_flow": null,
            "grid_auto_rows": null,
            "grid_column": null,
            "grid_gap": null,
            "grid_row": null,
            "grid_template_areas": null,
            "grid_template_columns": null,
            "grid_template_rows": null,
            "height": null,
            "justify_content": null,
            "justify_items": null,
            "left": null,
            "margin": null,
            "max_height": null,
            "max_width": null,
            "min_height": null,
            "min_width": null,
            "object_fit": null,
            "object_position": null,
            "order": null,
            "overflow": null,
            "overflow_x": null,
            "overflow_y": null,
            "padding": null,
            "right": null,
            "top": null,
            "visibility": null,
            "width": null
          }
        },
        "b697b70cdb174ee783fe1132c54a8455": {
          "model_module": "@jupyter-widgets/controls",
          "model_module_version": "1.5.0",
          "model_name": "DescriptionStyleModel",
          "state": {
            "_model_module": "@jupyter-widgets/controls",
            "_model_module_version": "1.5.0",
            "_model_name": "DescriptionStyleModel",
            "_view_count": null,
            "_view_module": "@jupyter-widgets/base",
            "_view_module_version": "1.2.0",
            "_view_name": "StyleView",
            "description_width": ""
          }
        },
        "bf27fc19349542c48cf4dcfe7aa6267c": {
          "model_module": "@jupyter-widgets/base",
          "model_module_version": "1.2.0",
          "model_name": "LayoutModel",
          "state": {
            "_model_module": "@jupyter-widgets/base",
            "_model_module_version": "1.2.0",
            "_model_name": "LayoutModel",
            "_view_count": null,
            "_view_module": "@jupyter-widgets/base",
            "_view_module_version": "1.2.0",
            "_view_name": "LayoutView",
            "align_content": null,
            "align_items": null,
            "align_self": null,
            "border": null,
            "bottom": null,
            "display": null,
            "flex": null,
            "flex_flow": null,
            "grid_area": null,
            "grid_auto_columns": null,
            "grid_auto_flow": null,
            "grid_auto_rows": null,
            "grid_column": null,
            "grid_gap": null,
            "grid_row": null,
            "grid_template_areas": null,
            "grid_template_columns": null,
            "grid_template_rows": null,
            "height": null,
            "justify_content": null,
            "justify_items": null,
            "left": null,
            "margin": null,
            "max_height": null,
            "max_width": null,
            "min_height": null,
            "min_width": null,
            "object_fit": null,
            "object_position": null,
            "order": null,
            "overflow": null,
            "overflow_x": null,
            "overflow_y": null,
            "padding": null,
            "right": null,
            "top": null,
            "visibility": null,
            "width": null
          }
        },
        "c300cb1388924c5a8009ec29f98ef9fa": {
          "model_module": "@jupyter-widgets/base",
          "model_module_version": "1.2.0",
          "model_name": "LayoutModel",
          "state": {
            "_model_module": "@jupyter-widgets/base",
            "_model_module_version": "1.2.0",
            "_model_name": "LayoutModel",
            "_view_count": null,
            "_view_module": "@jupyter-widgets/base",
            "_view_module_version": "1.2.0",
            "_view_name": "LayoutView",
            "align_content": null,
            "align_items": null,
            "align_self": null,
            "border": null,
            "bottom": null,
            "display": null,
            "flex": null,
            "flex_flow": null,
            "grid_area": null,
            "grid_auto_columns": null,
            "grid_auto_flow": null,
            "grid_auto_rows": null,
            "grid_column": null,
            "grid_gap": null,
            "grid_row": null,
            "grid_template_areas": null,
            "grid_template_columns": null,
            "grid_template_rows": null,
            "height": null,
            "justify_content": null,
            "justify_items": null,
            "left": null,
            "margin": null,
            "max_height": null,
            "max_width": null,
            "min_height": null,
            "min_width": null,
            "object_fit": null,
            "object_position": null,
            "order": null,
            "overflow": null,
            "overflow_x": null,
            "overflow_y": null,
            "padding": null,
            "right": null,
            "top": null,
            "visibility": null,
            "width": null
          }
        },
        "c46741cd06d0427087ccbee842596984": {
          "model_module": "@jupyter-widgets/controls",
          "model_module_version": "1.5.0",
          "model_name": "DescriptionStyleModel",
          "state": {
            "_model_module": "@jupyter-widgets/controls",
            "_model_module_version": "1.5.0",
            "_model_name": "DescriptionStyleModel",
            "_view_count": null,
            "_view_module": "@jupyter-widgets/base",
            "_view_module_version": "1.2.0",
            "_view_name": "StyleView",
            "description_width": ""
          }
        },
        "cab6b557e622480fadc877ec27ec8fa9": {
          "model_module": "@jupyter-widgets/controls",
          "model_module_version": "1.5.0",
          "model_name": "HTMLModel",
          "state": {
            "_dom_classes": [],
            "_model_module": "@jupyter-widgets/controls",
            "_model_module_version": "1.5.0",
            "_model_name": "HTMLModel",
            "_view_count": null,
            "_view_module": "@jupyter-widgets/controls",
            "_view_module_version": "1.5.0",
            "_view_name": "HTMLView",
            "description": "",
            "description_tooltip": null,
            "layout": "IPY_MODEL_c300cb1388924c5a8009ec29f98ef9fa",
            "placeholder": "​",
            "style": "IPY_MODEL_d4f80944974740adb609927156fd54b6",
            "value": "100%"
          }
        },
        "cf848cb8c78141c79d85044576d7d99e": {
          "model_module": "@jupyter-widgets/base",
          "model_module_version": "1.2.0",
          "model_name": "LayoutModel",
          "state": {
            "_model_module": "@jupyter-widgets/base",
            "_model_module_version": "1.2.0",
            "_model_name": "LayoutModel",
            "_view_count": null,
            "_view_module": "@jupyter-widgets/base",
            "_view_module_version": "1.2.0",
            "_view_name": "LayoutView",
            "align_content": null,
            "align_items": null,
            "align_self": null,
            "border": null,
            "bottom": null,
            "display": null,
            "flex": null,
            "flex_flow": null,
            "grid_area": null,
            "grid_auto_columns": null,
            "grid_auto_flow": null,
            "grid_auto_rows": null,
            "grid_column": null,
            "grid_gap": null,
            "grid_row": null,
            "grid_template_areas": null,
            "grid_template_columns": null,
            "grid_template_rows": null,
            "height": null,
            "justify_content": null,
            "justify_items": null,
            "left": null,
            "margin": null,
            "max_height": null,
            "max_width": null,
            "min_height": null,
            "min_width": null,
            "object_fit": null,
            "object_position": null,
            "order": null,
            "overflow": null,
            "overflow_x": null,
            "overflow_y": null,
            "padding": null,
            "right": null,
            "top": null,
            "visibility": null,
            "width": null
          }
        },
        "d4f80944974740adb609927156fd54b6": {
          "model_module": "@jupyter-widgets/controls",
          "model_module_version": "1.5.0",
          "model_name": "DescriptionStyleModel",
          "state": {
            "_model_module": "@jupyter-widgets/controls",
            "_model_module_version": "1.5.0",
            "_model_name": "DescriptionStyleModel",
            "_view_count": null,
            "_view_module": "@jupyter-widgets/base",
            "_view_module_version": "1.2.0",
            "_view_name": "StyleView",
            "description_width": ""
          }
        },
        "e549e41fd76f4c7ab4997f4bb16cedc4": {
          "model_module": "@jupyter-widgets/base",
          "model_module_version": "1.2.0",
          "model_name": "LayoutModel",
          "state": {
            "_model_module": "@jupyter-widgets/base",
            "_model_module_version": "1.2.0",
            "_model_name": "LayoutModel",
            "_view_count": null,
            "_view_module": "@jupyter-widgets/base",
            "_view_module_version": "1.2.0",
            "_view_name": "LayoutView",
            "align_content": null,
            "align_items": null,
            "align_self": null,
            "border": null,
            "bottom": null,
            "display": null,
            "flex": null,
            "flex_flow": null,
            "grid_area": null,
            "grid_auto_columns": null,
            "grid_auto_flow": null,
            "grid_auto_rows": null,
            "grid_column": null,
            "grid_gap": null,
            "grid_row": null,
            "grid_template_areas": null,
            "grid_template_columns": null,
            "grid_template_rows": null,
            "height": null,
            "justify_content": null,
            "justify_items": null,
            "left": null,
            "margin": null,
            "max_height": null,
            "max_width": null,
            "min_height": null,
            "min_width": null,
            "object_fit": null,
            "object_position": null,
            "order": null,
            "overflow": null,
            "overflow_x": null,
            "overflow_y": null,
            "padding": null,
            "right": null,
            "top": null,
            "visibility": null,
            "width": null
          }
        },
        "e639738a52a64073859ec8e3dee920f6": {
          "model_module": "@jupyter-widgets/controls",
          "model_module_version": "1.5.0",
          "model_name": "HBoxModel",
          "state": {
            "_dom_classes": [],
            "_model_module": "@jupyter-widgets/controls",
            "_model_module_version": "1.5.0",
            "_model_name": "HBoxModel",
            "_view_count": null,
            "_view_module": "@jupyter-widgets/controls",
            "_view_module_version": "1.5.0",
            "_view_name": "HBoxView",
            "box_style": "",
            "children": [
              "IPY_MODEL_f7b88d91850a4727b6a447fd87502f5f",
              "IPY_MODEL_0189d62843e94f589ee7771436283106",
              "IPY_MODEL_880581e2b4d047bd9b82dd40d72a80d7"
            ],
            "layout": "IPY_MODEL_a6545013f841474496a5c9d9c95608df"
          }
        },
        "ecc76483e7d947ffa985828487a81fb6": {
          "model_module": "@jupyter-widgets/base",
          "model_module_version": "1.2.0",
          "model_name": "LayoutModel",
          "state": {
            "_model_module": "@jupyter-widgets/base",
            "_model_module_version": "1.2.0",
            "_model_name": "LayoutModel",
            "_view_count": null,
            "_view_module": "@jupyter-widgets/base",
            "_view_module_version": "1.2.0",
            "_view_name": "LayoutView",
            "align_content": null,
            "align_items": null,
            "align_self": null,
            "border": null,
            "bottom": null,
            "display": null,
            "flex": null,
            "flex_flow": null,
            "grid_area": null,
            "grid_auto_columns": null,
            "grid_auto_flow": null,
            "grid_auto_rows": null,
            "grid_column": null,
            "grid_gap": null,
            "grid_row": null,
            "grid_template_areas": null,
            "grid_template_columns": null,
            "grid_template_rows": null,
            "height": null,
            "justify_content": null,
            "justify_items": null,
            "left": null,
            "margin": null,
            "max_height": null,
            "max_width": null,
            "min_height": null,
            "min_width": null,
            "object_fit": null,
            "object_position": null,
            "order": null,
            "overflow": null,
            "overflow_x": null,
            "overflow_y": null,
            "padding": null,
            "right": null,
            "top": null,
            "visibility": null,
            "width": null
          }
        },
        "eccc6732c67b4952b3ee6280bd0d9328": {
          "model_module": "@jupyter-widgets/base",
          "model_module_version": "1.2.0",
          "model_name": "LayoutModel",
          "state": {
            "_model_module": "@jupyter-widgets/base",
            "_model_module_version": "1.2.0",
            "_model_name": "LayoutModel",
            "_view_count": null,
            "_view_module": "@jupyter-widgets/base",
            "_view_module_version": "1.2.0",
            "_view_name": "LayoutView",
            "align_content": null,
            "align_items": null,
            "align_self": null,
            "border": null,
            "bottom": null,
            "display": null,
            "flex": null,
            "flex_flow": null,
            "grid_area": null,
            "grid_auto_columns": null,
            "grid_auto_flow": null,
            "grid_auto_rows": null,
            "grid_column": null,
            "grid_gap": null,
            "grid_row": null,
            "grid_template_areas": null,
            "grid_template_columns": null,
            "grid_template_rows": null,
            "height": null,
            "justify_content": null,
            "justify_items": null,
            "left": null,
            "margin": null,
            "max_height": null,
            "max_width": null,
            "min_height": null,
            "min_width": null,
            "object_fit": null,
            "object_position": null,
            "order": null,
            "overflow": null,
            "overflow_x": null,
            "overflow_y": null,
            "padding": null,
            "right": null,
            "top": null,
            "visibility": null,
            "width": null
          }
        },
        "f7b88d91850a4727b6a447fd87502f5f": {
          "model_module": "@jupyter-widgets/controls",
          "model_module_version": "1.5.0",
          "model_name": "HTMLModel",
          "state": {
            "_dom_classes": [],
            "_model_module": "@jupyter-widgets/controls",
            "_model_module_version": "1.5.0",
            "_model_name": "HTMLModel",
            "_view_count": null,
            "_view_module": "@jupyter-widgets/controls",
            "_view_module_version": "1.5.0",
            "_view_name": "HTMLView",
            "description": "",
            "description_tooltip": null,
            "layout": "IPY_MODEL_ecc76483e7d947ffa985828487a81fb6",
            "placeholder": "​",
            "style": "IPY_MODEL_513645c6b5134716aef77f463fc4331d",
            "value": "100%"
          }
        },
        "fafdb7ea15b044faa3f691ac1ae8ad0a": {
          "model_module": "@jupyter-widgets/controls",
          "model_module_version": "1.5.0",
          "model_name": "HBoxModel",
          "state": {
            "_dom_classes": [],
            "_model_module": "@jupyter-widgets/controls",
            "_model_module_version": "1.5.0",
            "_model_name": "HBoxModel",
            "_view_count": null,
            "_view_module": "@jupyter-widgets/controls",
            "_view_module_version": "1.5.0",
            "_view_name": "HBoxView",
            "box_style": "",
            "children": [
              "IPY_MODEL_cab6b557e622480fadc877ec27ec8fa9",
              "IPY_MODEL_40ca90ad92d34dd19d23c3a9b1911192",
              "IPY_MODEL_a6f59742b6794c7cb301dd916cc1f915"
            ],
            "layout": "IPY_MODEL_4e5e244638f6413a8458ad4659eb3bc7"
          }
        },
        "ffa30c077e174b90b970314147e2c3bd": {
          "model_module": "@jupyter-widgets/base",
          "model_module_version": "1.2.0",
          "model_name": "LayoutModel",
          "state": {
            "_model_module": "@jupyter-widgets/base",
            "_model_module_version": "1.2.0",
            "_model_name": "LayoutModel",
            "_view_count": null,
            "_view_module": "@jupyter-widgets/base",
            "_view_module_version": "1.2.0",
            "_view_name": "LayoutView",
            "align_content": null,
            "align_items": null,
            "align_self": null,
            "border": null,
            "bottom": null,
            "display": null,
            "flex": null,
            "flex_flow": null,
            "grid_area": null,
            "grid_auto_columns": null,
            "grid_auto_flow": null,
            "grid_auto_rows": null,
            "grid_column": null,
            "grid_gap": null,
            "grid_row": null,
            "grid_template_areas": null,
            "grid_template_columns": null,
            "grid_template_rows": null,
            "height": null,
            "justify_content": null,
            "justify_items": null,
            "left": null,
            "margin": null,
            "max_height": null,
            "max_width": null,
            "min_height": null,
            "min_width": null,
            "object_fit": null,
            "object_position": null,
            "order": null,
            "overflow": null,
            "overflow_x": null,
            "overflow_y": null,
            "padding": null,
            "right": null,
            "top": null,
            "visibility": null,
            "width": null
          }
        }
      }
    }
  },
  "nbformat": 4,
  "nbformat_minor": 0
}
